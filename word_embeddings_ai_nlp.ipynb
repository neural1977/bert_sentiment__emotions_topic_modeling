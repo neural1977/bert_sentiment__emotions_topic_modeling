{
  "cells": [
    {
      "cell_type": "markdown",
      "metadata": {
        "id": "WTTLRpIXlWP3"
      },
      "source": [
        "# **All Imports**"
      ]
    },
    {
      "cell_type": "code",
      "execution_count": 102,
      "metadata": {
        "id": "kCgc9MR0fBwS"
      },
      "outputs": [],
      "source": [
        "import json\n",
        "import pandas as pd\n",
        "import numpy as np\n",
        "import matplotlib.pyplot as plt\n",
        "import seaborn as sns\n",
        "import re\n",
        "import nltk\n",
        "import os\n",
        "import sys\n",
        "import platform\n",
        "from gensim.models.word2vec import Word2Vec\n",
        "from gensim.models.phrases import Phrases, Phraser \n",
        "import gensim.downloader as gensim_api\n",
        "from sklearn.model_selection import train_test_split\n",
        "from sklearn.manifold import TSNE\n",
        "from sklearn.preprocessing import LabelEncoder\n",
        "from tensorflow.keras.preprocessing.text import Tokenizer\n",
        "from tensorflow.keras.preprocessing.sequence import pad_sequences\n",
        "from tensorflow.keras.layers import Embedding, Bidirectional, Input, LSTM, Dense \n",
        "from tensorflow.keras.callbacks import ModelCheckpoint, EarlyStopping\n",
        "from tensorflow.keras.models import Model \n",
        "from tensorflow.keras.utils import to_categorical\n",
        "from google.colab import drive"
      ]
    },
    {
      "cell_type": "markdown",
      "metadata": {
        "id": "HYgJnAGDn65V"
      },
      "source": [
        "# **All Initializations**"
      ]
    },
    {
      "cell_type": "code",
      "execution_count": 103,
      "metadata": {
        "colab": {
          "base_uri": "https://localhost:8080/"
        },
        "id": "y8DPicyTn_ts",
        "outputId": "63e23b54-b64d-4498-b051-86b3a5732c64"
      },
      "outputs": [
        {
          "output_type": "stream",
          "name": "stderr",
          "text": [
            "[nltk_data] Downloading package wordnet to /root/nltk_data...\n",
            "[nltk_data]   Package wordnet is already up-to-date!\n",
            "[nltk_data] Downloading package stopwords to /root/nltk_data...\n",
            "[nltk_data]   Package stopwords is already up-to-date!\n",
            "[nltk_data] Downloading package omw-1.4 to /root/nltk_data...\n",
            "[nltk_data]   Package omw-1.4 is already up-to-date!\n"
          ]
        },
        {
          "output_type": "execute_result",
          "data": {
            "text/plain": [
              "True"
            ]
          },
          "metadata": {},
          "execution_count": 103
        }
      ],
      "source": [
        "OS = platform.system()   # Operating System\n",
        "nltk.download('wordnet')\n",
        "nltk.download('stopwords')\n",
        "nltk.download('omw-1.4')"
      ]
    },
    {
      "cell_type": "markdown",
      "source": [
        "# **All Globals**"
      ],
      "metadata": {
        "id": "WUzbSBRcChUQ"
      }
    },
    {
      "cell_type": "code",
      "source": [
        "pretrained_embeddings = False\n",
        "benchmark = True\n",
        "language = \"italian\" # english\n",
        "ht_to_exclude = ['#ANSA']\n",
        "default_callbacks = []\n",
        "save_best_model = True\n",
        "early_stopping = False"
      ],
      "metadata": {
        "id": "Rh6YnJ6oChAV"
      },
      "execution_count": 104,
      "outputs": []
    },
    {
      "cell_type": "markdown",
      "metadata": {
        "id": "zfPXCmuCnkfu"
      },
      "source": [
        "# **All General Functions Definitions**"
      ]
    },
    {
      "cell_type": "code",
      "execution_count": 105,
      "metadata": {
        "id": "sfh-KjlXnj4M"
      },
      "outputs": [],
      "source": [
        "def explore_data(data): \n",
        "  print(\"\\nHead of Data: \\n\", data.head())\n",
        "  print(\"\\nTail of Data: \\n\", data.tail())\n",
        "  print(\"\\nShape of Data: \", data.shape)\n",
        "  print(\"\\nInformation about Data: \\n\")\n",
        "  try: \n",
        "    data.info()\n",
        "  except: \n",
        "    pass\n",
        "  print(\"\\nTypes of Data attributes: \\n\")\n",
        "  try: \n",
        "    data.dtypes\n",
        "  except: \n",
        "    pass\n",
        "  print(\"\\nSummary of all numerical fields in the dataset: \\n\")\n",
        "  try: \n",
        "    data.describe(include = [np.number])\n",
        "  except: \n",
        "    pass\n",
        "  print(\"\\nSummary of all categorical fields in the dataset: \\n\")\n",
        "  try: \n",
        "    data.describe(include = ['O'])\n",
        "  except: \n",
        "    pass\n",
        "  print(\"\\nLoop Through Each Column and Check for nulls: \\n\")\n",
        "  try: \n",
        "    for i in range(len(data.columns)):\n",
        "        print(data.columns[i] + \": \" + str(data[data.columns[i]].isna().sum()))\n",
        "  except: \n",
        "    pass\n",
        "\n",
        "def data_download(file_to_download, gdrive_code, OS, uncompress = True):\n",
        "  if not os.path.exists(file_to_download):\n",
        "    os.system('gdown --id \"'+gdrive_code+'\" --output '+file_to_download)\n",
        "    if OS == \"Linux\" and uncompress:\n",
        "        os.system('unzip -o -n \"./'+file_to_download+'\" -d \"./\"')\n",
        "    return True\n",
        "  else: \n",
        "    return None\n",
        "\n",
        "# Plot the loss function chart\n",
        "def plot_loss(history = None):\n",
        "    plt.figure()\t\t\t\t\t\t\t\t\t\t\t\t# generate a new window\n",
        "    plt.plot(history.history['loss'], label='train_loss')\n",
        "    plt.plot(history.history['val_loss'], label='val_loss')\n",
        "    plt.legend(loc='upper right')\n",
        "    plt.show(block=False)\n",
        "    plt.pause(1)\n",
        "\n",
        "# Plot the accuracy function chart\n",
        "def plot_acc(history = None):\n",
        "    plt.figure()\t\t\t\t\t\t\t\t\t\t\t\t# generate a new window\n",
        "    plt.plot(history.history['accuracy'], label='train_acc')\n",
        "    plt.plot(history.history['val_accuracy'], label='val_acc')\n",
        "    plt.legend(loc='upper left')\n",
        "    plt.show(block=False)\n",
        "    plt.pause(1)"
      ]
    },
    {
      "cell_type": "code",
      "source": [
        "drive.mount('/content/drive')\n",
        "sys.path.append('/content/drive/My Drive')\n",
        "model_path = \"/content/drive/MyDrive/DL_Models/\"\n"
      ],
      "metadata": {
        "colab": {
          "base_uri": "https://localhost:8080/"
        },
        "id": "rcLedJFq7KCF",
        "outputId": "dcaf9102-70cb-4947-8fbc-c07a88f48e61"
      },
      "execution_count": 106,
      "outputs": [
        {
          "output_type": "stream",
          "name": "stdout",
          "text": [
            "Drive already mounted at /content/drive; to attempt to forcibly remount, call drive.mount(\"/content/drive\", force_remount=True).\n"
          ]
        }
      ]
    },
    {
      "cell_type": "markdown",
      "metadata": {
        "id": "-YApPdO-oJo7"
      },
      "source": [
        "# **Data Download**"
      ]
    },
    {
      "cell_type": "code",
      "execution_count": 107,
      "metadata": {
        "id": "BddA6q06nP4m"
      },
      "outputs": [],
      "source": [
        "if benchmark == True: \n",
        "  out = data_download(\"./News_Category_Dataset_v2.zip\", \"1O0JTnVgHcYppkR5hmj8sxkpgP4dI164C\", OS)\n",
        "  category_dicts = []\n",
        "  with open('News_Category_Dataset_v2.json', mode='r', errors='ignore') as json_file:\n",
        "      for dic in json_file:\n",
        "          category_dicts.append(json.loads(dic))\n",
        "else: \n",
        "  out = data_download(\"./tweetHashtah3Giu.zip\", \"1J2FodTnUeDURmg1I-4AQcbHE0XISILKf\", OS)"
      ]
    },
    {
      "cell_type": "code",
      "source": [
        "out"
      ],
      "metadata": {
        "id": "mDMSvTJP5aQ5",
        "colab": {
          "base_uri": "https://localhost:8080/"
        },
        "outputId": "2d43f388-2b98-42fc-c29c-e8fc9a5b3537"
      },
      "execution_count": 108,
      "outputs": [
        {
          "output_type": "execute_result",
          "data": {
            "text/plain": [
              "True"
            ]
          },
          "metadata": {},
          "execution_count": 108
        }
      ]
    },
    {
      "cell_type": "markdown",
      "source": [
        "# **Data Preprocessing**"
      ],
      "metadata": {
        "id": "Wk6s_jzesyES"
      }
    },
    {
      "cell_type": "code",
      "source": [
        "if benchmark == True:\n",
        "  data = pd.DataFrame(category_dicts)\n",
        "  data = data[data[\"category\"].isin(['ENTERTAINMENT','POLITICS','TECH'])][[\"category\",\"headline\"]]\n",
        "  data = data.rename(columns={\"category\":\"labels\", \"headline\":\"text\"})\n",
        "  data = data[['text', 'labels']]     # move cols\n",
        "  explore_data(data)\n",
        "else:\n",
        "  data = pd.read_csv(\"./tweetHashtah3Giu.csv\")\n",
        "  explore_data(data)\n"
      ],
      "metadata": {
        "colab": {
          "base_uri": "https://localhost:8080/"
        },
        "id": "JGwnMFUGszCi",
        "outputId": "7895e3f1-8591-441d-d4ad-7c3695f4f48e"
      },
      "execution_count": 109,
      "outputs": [
        {
          "output_type": "stream",
          "name": "stdout",
          "text": [
            "\n",
            "Head of Data: \n",
            "                                                 text         labels\n",
            "1  Will Smith Joins Diplo And Nicky Jam For The 2...  ENTERTAINMENT\n",
            "2    Hugh Grant Marries For The First Time At Age 57  ENTERTAINMENT\n",
            "3  Jim Carrey Blasts 'Castrato' Adam Schiff And D...  ENTERTAINMENT\n",
            "4  Julianna Margulies Uses Donald Trump Poop Bags...  ENTERTAINMENT\n",
            "5  Morgan Freeman 'Devastated' That Sexual Harass...  ENTERTAINMENT\n",
            "\n",
            "Tail of Data: \n",
            "                                                      text labels\n",
            "200844    Google+ Now Open for Teens With Some Safeguards   TECH\n",
            "200845                                           Web Wars   TECH\n",
            "200846  First White House Chief Technology Officer, An...   TECH\n",
            "200847         Watch The Top 9 YouTube Videos Of The Week   TECH\n",
            "200848  RIM CEO Thorsten Heins' 'Significant' Plans Fo...   TECH\n",
            "\n",
            "Shape of Data:  (50879, 2)\n",
            "\n",
            "Information about Data: \n",
            "\n",
            "<class 'pandas.core.frame.DataFrame'>\n",
            "Int64Index: 50879 entries, 1 to 200848\n",
            "Data columns (total 2 columns):\n",
            " #   Column  Non-Null Count  Dtype \n",
            "---  ------  --------------  ----- \n",
            " 0   text    50879 non-null  object\n",
            " 1   labels  50879 non-null  object\n",
            "dtypes: object(2)\n",
            "memory usage: 1.2+ MB\n",
            "\n",
            "Types of Data attributes: \n",
            "\n",
            "\n",
            "Summary of all numerical fields in the dataset: \n",
            "\n",
            "\n",
            "Summary of all categorical fields in the dataset: \n",
            "\n",
            "\n",
            "Loop Through Each Column and Check for nulls: \n",
            "\n",
            "text: 0\n",
            "labels: 0\n"
          ]
        }
      ]
    },
    {
      "cell_type": "code",
      "source": [
        "data"
      ],
      "metadata": {
        "colab": {
          "base_uri": "https://localhost:8080/",
          "height": 424
        },
        "id": "JTX64mSHJaHr",
        "outputId": "d2b1c084-7240-432c-c6d9-2b9590671d34"
      },
      "execution_count": 110,
      "outputs": [
        {
          "output_type": "execute_result",
          "data": {
            "text/plain": [
              "                                                     text         labels\n",
              "1       Will Smith Joins Diplo And Nicky Jam For The 2...  ENTERTAINMENT\n",
              "2         Hugh Grant Marries For The First Time At Age 57  ENTERTAINMENT\n",
              "3       Jim Carrey Blasts 'Castrato' Adam Schiff And D...  ENTERTAINMENT\n",
              "4       Julianna Margulies Uses Donald Trump Poop Bags...  ENTERTAINMENT\n",
              "5       Morgan Freeman 'Devastated' That Sexual Harass...  ENTERTAINMENT\n",
              "...                                                   ...            ...\n",
              "200844    Google+ Now Open for Teens With Some Safeguards           TECH\n",
              "200845                                           Web Wars           TECH\n",
              "200846  First White House Chief Technology Officer, An...           TECH\n",
              "200847         Watch The Top 9 YouTube Videos Of The Week           TECH\n",
              "200848  RIM CEO Thorsten Heins' 'Significant' Plans Fo...           TECH\n",
              "\n",
              "[50879 rows x 2 columns]"
            ],
            "text/html": [
              "\n",
              "  <div id=\"df-38f34622-9000-43ee-bbf3-f2426f29be4b\">\n",
              "    <div class=\"colab-df-container\">\n",
              "      <div>\n",
              "<style scoped>\n",
              "    .dataframe tbody tr th:only-of-type {\n",
              "        vertical-align: middle;\n",
              "    }\n",
              "\n",
              "    .dataframe tbody tr th {\n",
              "        vertical-align: top;\n",
              "    }\n",
              "\n",
              "    .dataframe thead th {\n",
              "        text-align: right;\n",
              "    }\n",
              "</style>\n",
              "<table border=\"1\" class=\"dataframe\">\n",
              "  <thead>\n",
              "    <tr style=\"text-align: right;\">\n",
              "      <th></th>\n",
              "      <th>text</th>\n",
              "      <th>labels</th>\n",
              "    </tr>\n",
              "  </thead>\n",
              "  <tbody>\n",
              "    <tr>\n",
              "      <th>1</th>\n",
              "      <td>Will Smith Joins Diplo And Nicky Jam For The 2...</td>\n",
              "      <td>ENTERTAINMENT</td>\n",
              "    </tr>\n",
              "    <tr>\n",
              "      <th>2</th>\n",
              "      <td>Hugh Grant Marries For The First Time At Age 57</td>\n",
              "      <td>ENTERTAINMENT</td>\n",
              "    </tr>\n",
              "    <tr>\n",
              "      <th>3</th>\n",
              "      <td>Jim Carrey Blasts 'Castrato' Adam Schiff And D...</td>\n",
              "      <td>ENTERTAINMENT</td>\n",
              "    </tr>\n",
              "    <tr>\n",
              "      <th>4</th>\n",
              "      <td>Julianna Margulies Uses Donald Trump Poop Bags...</td>\n",
              "      <td>ENTERTAINMENT</td>\n",
              "    </tr>\n",
              "    <tr>\n",
              "      <th>5</th>\n",
              "      <td>Morgan Freeman 'Devastated' That Sexual Harass...</td>\n",
              "      <td>ENTERTAINMENT</td>\n",
              "    </tr>\n",
              "    <tr>\n",
              "      <th>...</th>\n",
              "      <td>...</td>\n",
              "      <td>...</td>\n",
              "    </tr>\n",
              "    <tr>\n",
              "      <th>200844</th>\n",
              "      <td>Google+ Now Open for Teens With Some Safeguards</td>\n",
              "      <td>TECH</td>\n",
              "    </tr>\n",
              "    <tr>\n",
              "      <th>200845</th>\n",
              "      <td>Web Wars</td>\n",
              "      <td>TECH</td>\n",
              "    </tr>\n",
              "    <tr>\n",
              "      <th>200846</th>\n",
              "      <td>First White House Chief Technology Officer, An...</td>\n",
              "      <td>TECH</td>\n",
              "    </tr>\n",
              "    <tr>\n",
              "      <th>200847</th>\n",
              "      <td>Watch The Top 9 YouTube Videos Of The Week</td>\n",
              "      <td>TECH</td>\n",
              "    </tr>\n",
              "    <tr>\n",
              "      <th>200848</th>\n",
              "      <td>RIM CEO Thorsten Heins' 'Significant' Plans Fo...</td>\n",
              "      <td>TECH</td>\n",
              "    </tr>\n",
              "  </tbody>\n",
              "</table>\n",
              "<p>50879 rows × 2 columns</p>\n",
              "</div>\n",
              "      <button class=\"colab-df-convert\" onclick=\"convertToInteractive('df-38f34622-9000-43ee-bbf3-f2426f29be4b')\"\n",
              "              title=\"Convert this dataframe to an interactive table.\"\n",
              "              style=\"display:none;\">\n",
              "        \n",
              "  <svg xmlns=\"http://www.w3.org/2000/svg\" height=\"24px\"viewBox=\"0 0 24 24\"\n",
              "       width=\"24px\">\n",
              "    <path d=\"M0 0h24v24H0V0z\" fill=\"none\"/>\n",
              "    <path d=\"M18.56 5.44l.94 2.06.94-2.06 2.06-.94-2.06-.94-.94-2.06-.94 2.06-2.06.94zm-11 1L8.5 8.5l.94-2.06 2.06-.94-2.06-.94L8.5 2.5l-.94 2.06-2.06.94zm10 10l.94 2.06.94-2.06 2.06-.94-2.06-.94-.94-2.06-.94 2.06-2.06.94z\"/><path d=\"M17.41 7.96l-1.37-1.37c-.4-.4-.92-.59-1.43-.59-.52 0-1.04.2-1.43.59L10.3 9.45l-7.72 7.72c-.78.78-.78 2.05 0 2.83L4 21.41c.39.39.9.59 1.41.59.51 0 1.02-.2 1.41-.59l7.78-7.78 2.81-2.81c.8-.78.8-2.07 0-2.86zM5.41 20L4 18.59l7.72-7.72 1.47 1.35L5.41 20z\"/>\n",
              "  </svg>\n",
              "      </button>\n",
              "      \n",
              "  <style>\n",
              "    .colab-df-container {\n",
              "      display:flex;\n",
              "      flex-wrap:wrap;\n",
              "      gap: 12px;\n",
              "    }\n",
              "\n",
              "    .colab-df-convert {\n",
              "      background-color: #E8F0FE;\n",
              "      border: none;\n",
              "      border-radius: 50%;\n",
              "      cursor: pointer;\n",
              "      display: none;\n",
              "      fill: #1967D2;\n",
              "      height: 32px;\n",
              "      padding: 0 0 0 0;\n",
              "      width: 32px;\n",
              "    }\n",
              "\n",
              "    .colab-df-convert:hover {\n",
              "      background-color: #E2EBFA;\n",
              "      box-shadow: 0px 1px 2px rgba(60, 64, 67, 0.3), 0px 1px 3px 1px rgba(60, 64, 67, 0.15);\n",
              "      fill: #174EA6;\n",
              "    }\n",
              "\n",
              "    [theme=dark] .colab-df-convert {\n",
              "      background-color: #3B4455;\n",
              "      fill: #D2E3FC;\n",
              "    }\n",
              "\n",
              "    [theme=dark] .colab-df-convert:hover {\n",
              "      background-color: #434B5C;\n",
              "      box-shadow: 0px 1px 3px 1px rgba(0, 0, 0, 0.15);\n",
              "      filter: drop-shadow(0px 1px 2px rgba(0, 0, 0, 0.3));\n",
              "      fill: #FFFFFF;\n",
              "    }\n",
              "  </style>\n",
              "\n",
              "      <script>\n",
              "        const buttonEl =\n",
              "          document.querySelector('#df-38f34622-9000-43ee-bbf3-f2426f29be4b button.colab-df-convert');\n",
              "        buttonEl.style.display =\n",
              "          google.colab.kernel.accessAllowed ? 'block' : 'none';\n",
              "\n",
              "        async function convertToInteractive(key) {\n",
              "          const element = document.querySelector('#df-38f34622-9000-43ee-bbf3-f2426f29be4b');\n",
              "          const dataTable =\n",
              "            await google.colab.kernel.invokeFunction('convertToInteractive',\n",
              "                                                     [key], {});\n",
              "          if (!dataTable) return;\n",
              "\n",
              "          const docLinkHtml = 'Like what you see? Visit the ' +\n",
              "            '<a target=\"_blank\" href=https://colab.research.google.com/notebooks/data_table.ipynb>data table notebook</a>'\n",
              "            + ' to learn more about interactive tables.';\n",
              "          element.innerHTML = '';\n",
              "          dataTable['output_type'] = 'display_data';\n",
              "          await google.colab.output.renderOutput(dataTable, element);\n",
              "          const docLink = document.createElement('div');\n",
              "          docLink.innerHTML = docLinkHtml;\n",
              "          element.appendChild(docLink);\n",
              "        }\n",
              "      </script>\n",
              "    </div>\n",
              "  </div>\n",
              "  "
            ]
          },
          "metadata": {},
          "execution_count": 110
        }
      ]
    },
    {
      "cell_type": "markdown",
      "source": [
        "#**Data Exploration**"
      ],
      "metadata": {
        "id": "E5-gFzVMuG-j"
      }
    },
    {
      "cell_type": "code",
      "source": [
        "if benchmark == True: \n",
        "  fig, ax = plt.subplots()\n",
        "  fig.suptitle(\"Dataset Distribution\", fontsize=12)\n",
        "  data[\"labels\"].reset_index().groupby(\"labels\").count().sort_values(by=\"index\").plot(kind=\"barh\", legend=False, ax=ax, color = \"green\").grid(axis='x')\n",
        "  plt.show()\n",
        "else:\n",
        "  fig, ax = plt.subplots()\n",
        "  fig.suptitle(\"Hashtags Distribution\", fontsize=12)\n",
        "  data[\"hashtag\"].reset_index().groupby(\"hashtag\").count().sort_values(by=\"index\", ascending = False)[0:10].plot(kind=\"barh\", legend=False, ax=ax, color = \"green\").grid(axis='x')\n",
        "  ht = data[\"hashtag\"].reset_index().groupby(\"hashtag\").count().sort_values(by=\"index\", ascending = False)[0:10]\n",
        "  ht_list = list(ht.index)\n",
        "  ht_list = C = [x for x in ht_list if x not in ht_to_exclude]    # exclude some hashtags\n",
        "  plt.show()\n",
        "  filter = \"$|\".join(ht_list)\n",
        "  data = data[data.hashtag.str.contains(filter)]\n",
        "  data.hashtag.value_counts()\n",
        "  data = data.rename(columns={\"hashtag\":\"labels\", \"TEXT\":\"text\"})\n",
        "\n"
      ],
      "metadata": {
        "colab": {
          "base_uri": "https://localhost:8080/",
          "height": 294
        },
        "id": "eCcRHtObuGOg",
        "outputId": "4cd0cf9f-cb82-4393-8b52-4b5a8015fe5c"
      },
      "execution_count": 111,
      "outputs": [
        {
          "output_type": "display_data",
          "data": {
            "text/plain": [
              "<Figure size 432x288 with 1 Axes>"
            ],
            "image/png": "[encoded data removed]"
          },
          "metadata": {
            "needs_background": "light"
          }
        }
      ]
    },
    {
      "cell_type": "code",
      "source": [
        "filter"
      ],
      "metadata": {
        "colab": {
          "base_uri": "https://localhost:8080/",
          "height": 36
        },
        "id": "5ulYUBnVpRCP",
        "outputId": "367f02bd-767c-4c07-ac77-31fbf118e330"
      },
      "execution_count": 112,
      "outputs": [
        {
          "output_type": "execute_result",
          "data": {
            "text/plain": [
              "'#Draghi$|#redditodicittadinanza$|#3giugno$|#Ucraina$|#4voiceless$|#jeru$|#LiveIn$|#10lezionidipolitica$|#prelemi'"
            ],
            "application/vnd.google.colaboratory.intrinsic+json": {
              "type": "string"
            }
          },
          "metadata": {},
          "execution_count": 112
        }
      ]
    },
    {
      "cell_type": "code",
      "source": [
        "ht_list"
      ],
      "metadata": {
        "colab": {
          "base_uri": "https://localhost:8080/"
        },
        "id": "RFEP1G10ns8c",
        "outputId": "25c8a6b4-2800-49f2-f96e-e7b04275d401"
      },
      "execution_count": 113,
      "outputs": [
        {
          "output_type": "execute_result",
          "data": {
            "text/plain": [
              "['#Draghi',\n",
              " '#redditodicittadinanza',\n",
              " '#3giugno',\n",
              " '#Ucraina',\n",
              " '#4voiceless',\n",
              " '#jeru',\n",
              " '#LiveIn',\n",
              " '#10lezionidipolitica',\n",
              " '#prelemi']"
            ]
          },
          "metadata": {},
          "execution_count": 113
        }
      ]
    },
    {
      "cell_type": "code",
      "source": [
        "data.reset_index()"
      ],
      "metadata": {
        "colab": {
          "base_uri": "https://localhost:8080/",
          "height": 424
        },
        "id": "9g79gvKXP9ST",
        "outputId": "d39f1754-efb3-4cae-aff4-da6d6d0e1eaf"
      },
      "execution_count": 114,
      "outputs": [
        {
          "output_type": "execute_result",
          "data": {
            "text/plain": [
              "        index                                               text  \\\n",
              "0           1  Will Smith Joins Diplo And Nicky Jam For The 2...   \n",
              "1           2    Hugh Grant Marries For The First Time At Age 57   \n",
              "2           3  Jim Carrey Blasts 'Castrato' Adam Schiff And D...   \n",
              "3           4  Julianna Margulies Uses Donald Trump Poop Bags...   \n",
              "4           5  Morgan Freeman 'Devastated' That Sexual Harass...   \n",
              "...       ...                                                ...   \n",
              "50874  200844    Google+ Now Open for Teens With Some Safeguards   \n",
              "50875  200845                                           Web Wars   \n",
              "50876  200846  First White House Chief Technology Officer, An...   \n",
              "50877  200847         Watch The Top 9 YouTube Videos Of The Week   \n",
              "50878  200848  RIM CEO Thorsten Heins' 'Significant' Plans Fo...   \n",
              "\n",
              "              labels  \n",
              "0      ENTERTAINMENT  \n",
              "1      ENTERTAINMENT  \n",
              "2      ENTERTAINMENT  \n",
              "3      ENTERTAINMENT  \n",
              "4      ENTERTAINMENT  \n",
              "...              ...  \n",
              "50874           TECH  \n",
              "50875           TECH  \n",
              "50876           TECH  \n",
              "50877           TECH  \n",
              "50878           TECH  \n",
              "\n",
              "[50879 rows x 3 columns]"
            ],
            "text/html": [
              "\n",
              "  <div id=\"df-76c17d83-9da0-49b3-b90f-2c70087e4a83\">\n",
              "    <div class=\"colab-df-container\">\n",
              "      <div>\n",
              "<style scoped>\n",
              "    .dataframe tbody tr th:only-of-type {\n",
              "        vertical-align: middle;\n",
              "    }\n",
              "\n",
              "    .dataframe tbody tr th {\n",
              "        vertical-align: top;\n",
              "    }\n",
              "\n",
              "    .dataframe thead th {\n",
              "        text-align: right;\n",
              "    }\n",
              "</style>\n",
              "<table border=\"1\" class=\"dataframe\">\n",
              "  <thead>\n",
              "    <tr style=\"text-align: right;\">\n",
              "      <th></th>\n",
              "      <th>index</th>\n",
              "      <th>text</th>\n",
              "      <th>labels</th>\n",
              "    </tr>\n",
              "  </thead>\n",
              "  <tbody>\n",
              "    <tr>\n",
              "      <th>0</th>\n",
              "      <td>1</td>\n",
              "      <td>Will Smith Joins Diplo And Nicky Jam For The 2...</td>\n",
              "      <td>ENTERTAINMENT</td>\n",
              "    </tr>\n",
              "    <tr>\n",
              "      <th>1</th>\n",
              "      <td>2</td>\n",
              "      <td>Hugh Grant Marries For The First Time At Age 57</td>\n",
              "      <td>ENTERTAINMENT</td>\n",
              "    </tr>\n",
              "    <tr>\n",
              "      <th>2</th>\n",
              "      <td>3</td>\n",
              "      <td>Jim Carrey Blasts 'Castrato' Adam Schiff And D...</td>\n",
              "      <td>ENTERTAINMENT</td>\n",
              "    </tr>\n",
              "    <tr>\n",
              "      <th>3</th>\n",
              "      <td>4</td>\n",
              "      <td>Julianna Margulies Uses Donald Trump Poop Bags...</td>\n",
              "      <td>ENTERTAINMENT</td>\n",
              "    </tr>\n",
              "    <tr>\n",
              "      <th>4</th>\n",
              "      <td>5</td>\n",
              "      <td>Morgan Freeman 'Devastated' That Sexual Harass...</td>\n",
              "      <td>ENTERTAINMENT</td>\n",
              "    </tr>\n",
              "    <tr>\n",
              "      <th>...</th>\n",
              "      <td>...</td>\n",
              "      <td>...</td>\n",
              "      <td>...</td>\n",
              "    </tr>\n",
              "    <tr>\n",
              "      <th>50874</th>\n",
              "      <td>200844</td>\n",
              "      <td>Google+ Now Open for Teens With Some Safeguards</td>\n",
              "      <td>TECH</td>\n",
              "    </tr>\n",
              "    <tr>\n",
              "      <th>50875</th>\n",
              "      <td>200845</td>\n",
              "      <td>Web Wars</td>\n",
              "      <td>TECH</td>\n",
              "    </tr>\n",
              "    <tr>\n",
              "      <th>50876</th>\n",
              "      <td>200846</td>\n",
              "      <td>First White House Chief Technology Officer, An...</td>\n",
              "      <td>TECH</td>\n",
              "    </tr>\n",
              "    <tr>\n",
              "      <th>50877</th>\n",
              "      <td>200847</td>\n",
              "      <td>Watch The Top 9 YouTube Videos Of The Week</td>\n",
              "      <td>TECH</td>\n",
              "    </tr>\n",
              "    <tr>\n",
              "      <th>50878</th>\n",
              "      <td>200848</td>\n",
              "      <td>RIM CEO Thorsten Heins' 'Significant' Plans Fo...</td>\n",
              "      <td>TECH</td>\n",
              "    </tr>\n",
              "  </tbody>\n",
              "</table>\n",
              "<p>50879 rows × 3 columns</p>\n",
              "</div>\n",
              "      <button class=\"colab-df-convert\" onclick=\"convertToInteractive('df-76c17d83-9da0-49b3-b90f-2c70087e4a83')\"\n",
              "              title=\"Convert this dataframe to an interactive table.\"\n",
              "              style=\"display:none;\">\n",
              "        \n",
              "  <svg xmlns=\"http://www.w3.org/2000/svg\" height=\"24px\"viewBox=\"0 0 24 24\"\n",
              "       width=\"24px\">\n",
              "    <path d=\"M0 0h24v24H0V0z\" fill=\"none\"/>\n",
              "    <path d=\"M18.56 5.44l.94 2.06.94-2.06 2.06-.94-2.06-.94-.94-2.06-.94 2.06-2.06.94zm-11 1L8.5 8.5l.94-2.06 2.06-.94-2.06-.94L8.5 2.5l-.94 2.06-2.06.94zm10 10l.94 2.06.94-2.06 2.06-.94-2.06-.94-.94-2.06-.94 2.06-2.06.94z\"/><path d=\"M17.41 7.96l-1.37-1.37c-.4-.4-.92-.59-1.43-.59-.52 0-1.04.2-1.43.59L10.3 9.45l-7.72 7.72c-.78.78-.78 2.05 0 2.83L4 21.41c.39.39.9.59 1.41.59.51 0 1.02-.2 1.41-.59l7.78-7.78 2.81-2.81c.8-.78.8-2.07 0-2.86zM5.41 20L4 18.59l7.72-7.72 1.47 1.35L5.41 20z\"/>\n",
              "  </svg>\n",
              "      </button>\n",
              "      \n",
              "  <style>\n",
              "    .colab-df-container {\n",
              "      display:flex;\n",
              "      flex-wrap:wrap;\n",
              "      gap: 12px;\n",
              "    }\n",
              "\n",
              "    .colab-df-convert {\n",
              "      background-color: #E8F0FE;\n",
              "      border: none;\n",
              "      border-radius: 50%;\n",
              "      cursor: pointer;\n",
              "      display: none;\n",
              "      fill: #1967D2;\n",
              "      height: 32px;\n",
              "      padding: 0 0 0 0;\n",
              "      width: 32px;\n",
              "    }\n",
              "\n",
              "    .colab-df-convert:hover {\n",
              "      background-color: #E2EBFA;\n",
              "      box-shadow: 0px 1px 2px rgba(60, 64, 67, 0.3), 0px 1px 3px 1px rgba(60, 64, 67, 0.15);\n",
              "      fill: #174EA6;\n",
              "    }\n",
              "\n",
              "    [theme=dark] .colab-df-convert {\n",
              "      background-color: #3B4455;\n",
              "      fill: #D2E3FC;\n",
              "    }\n",
              "\n",
              "    [theme=dark] .colab-df-convert:hover {\n",
              "      background-color: #434B5C;\n",
              "      box-shadow: 0px 1px 3px 1px rgba(0, 0, 0, 0.15);\n",
              "      filter: drop-shadow(0px 1px 2px rgba(0, 0, 0, 0.3));\n",
              "      fill: #FFFFFF;\n",
              "    }\n",
              "  </style>\n",
              "\n",
              "      <script>\n",
              "        const buttonEl =\n",
              "          document.querySelector('#df-76c17d83-9da0-49b3-b90f-2c70087e4a83 button.colab-df-convert');\n",
              "        buttonEl.style.display =\n",
              "          google.colab.kernel.accessAllowed ? 'block' : 'none';\n",
              "\n",
              "        async function convertToInteractive(key) {\n",
              "          const element = document.querySelector('#df-76c17d83-9da0-49b3-b90f-2c70087e4a83');\n",
              "          const dataTable =\n",
              "            await google.colab.kernel.invokeFunction('convertToInteractive',\n",
              "                                                     [key], {});\n",
              "          if (!dataTable) return;\n",
              "\n",
              "          const docLinkHtml = 'Like what you see? Visit the ' +\n",
              "            '<a target=\"_blank\" href=https://colab.research.google.com/notebooks/data_table.ipynb>data table notebook</a>'\n",
              "            + ' to learn more about interactive tables.';\n",
              "          element.innerHTML = '';\n",
              "          dataTable['output_type'] = 'display_data';\n",
              "          await google.colab.output.renderOutput(dataTable, element);\n",
              "          const docLink = document.createElement('div');\n",
              "          docLink.innerHTML = docLinkHtml;\n",
              "          element.appendChild(docLink);\n",
              "        }\n",
              "      </script>\n",
              "    </div>\n",
              "  </div>\n",
              "  "
            ]
          },
          "metadata": {},
          "execution_count": 114
        }
      ]
    },
    {
      "cell_type": "markdown",
      "source": [
        "# **Data Cleaning Function Definition**"
      ],
      "metadata": {
        "id": "0IhUwzRNwoGC"
      }
    },
    {
      "cell_type": "code",
      "source": [
        "def clean_text(text, stemming=False, remove_stopwords = True, lemmatization=True, language = language, print_stopwords = False):\n",
        "  text = re.sub(r'[^\\w\\s]', '', str(text).lower().strip()) # (1)  \n",
        "  lst_text = text.split()                                  # (2)\n",
        "  if remove_stopwords: \n",
        "    lst_stopwords = nltk.corpus.stopwords.words(language)\n",
        "    \n",
        "    if lst_stopwords is not None:                          # (3)\n",
        "        lst_text = [word for word in lst_text if word not in \n",
        "                    lst_stopwords]\n",
        "    if print_stopwords: \n",
        "      print(lst_text)\n",
        "\n",
        "  if stemming:                                             # (4)\n",
        "      ps = nltk.stem.porter.PorterStemmer()\n",
        "      lst_text = [ps.stem(word) for word in lst_text]\n",
        "              \n",
        "  if lemmatization:                                        # (5) \n",
        "      lem = nltk.stem.wordnet.WordNetLemmatizer()\n",
        "      lst_text = [lem.lemmatize(word) for word in lst_text]\n",
        "          \n",
        "  text = \" \".join(lst_text)                                # (6)\n",
        "  \n",
        "  return text"
      ],
      "metadata": {
        "id": "rJyplT9TwrZR"
      },
      "execution_count": 115,
      "outputs": []
    },
    {
      "cell_type": "markdown",
      "source": [
        "# **Data Cleaning**"
      ],
      "metadata": {
        "id": "sRxV12xt8okm"
      }
    },
    {
      "cell_type": "code",
      "source": [
        "data[\"text_clean\"] = data[\"text\"].apply(lambda x: clean_text(x, remove_stopwords = True, stemming=False, lemmatization=False)) \n",
        "explore_data(data)"
      ],
      "metadata": {
        "colab": {
          "base_uri": "https://localhost:8080/"
        },
        "id": "F9hhGn-X8rWm",
        "outputId": "a121b88c-2305-49e8-dc6b-5637a2aae25a"
      },
      "execution_count": 116,
      "outputs": [
        {
          "output_type": "stream",
          "name": "stdout",
          "text": [
            "\n",
            "Head of Data: \n",
            "                                                 text         labels  \\\n",
            "1  Will Smith Joins Diplo And Nicky Jam For The 2...  ENTERTAINMENT   \n",
            "2    Hugh Grant Marries For The First Time At Age 57  ENTERTAINMENT   \n",
            "3  Jim Carrey Blasts 'Castrato' Adam Schiff And D...  ENTERTAINMENT   \n",
            "4  Julianna Margulies Uses Donald Trump Poop Bags...  ENTERTAINMENT   \n",
            "5  Morgan Freeman 'Devastated' That Sexual Harass...  ENTERTAINMENT   \n",
            "\n",
            "                                          text_clean  \n",
            "1  will smith joins diplo and nicky jam for the 2...  \n",
            "2    hugh grant marries for the first time at age 57  \n",
            "3  jim carrey blasts castrato adam schiff and dem...  \n",
            "4  julianna margulies uses donald trump poop bags...  \n",
            "5  morgan freeman devastated that sexual harassme...  \n",
            "\n",
            "Tail of Data: \n",
            "                                                      text labels  \\\n",
            "200844    Google+ Now Open for Teens With Some Safeguards   TECH   \n",
            "200845                                           Web Wars   TECH   \n",
            "200846  First White House Chief Technology Officer, An...   TECH   \n",
            "200847         Watch The Top 9 YouTube Videos Of The Week   TECH   \n",
            "200848  RIM CEO Thorsten Heins' 'Significant' Plans Fo...   TECH   \n",
            "\n",
            "                                               text_clean  \n",
            "200844     google now open for teens with some safeguards  \n",
            "200845                                           web wars  \n",
            "200846  first white house chief technology officer ane...  \n",
            "200847         watch the top 9 youtube videos of the week  \n",
            "200848  rim ceo thorsten heins significant plans for b...  \n",
            "\n",
            "Shape of Data:  (50879, 3)\n",
            "\n",
            "Information about Data: \n",
            "\n",
            "<class 'pandas.core.frame.DataFrame'>\n",
            "Int64Index: 50879 entries, 1 to 200848\n",
            "Data columns (total 3 columns):\n",
            " #   Column      Non-Null Count  Dtype \n",
            "---  ------      --------------  ----- \n",
            " 0   text        50879 non-null  object\n",
            " 1   labels      50879 non-null  object\n",
            " 2   text_clean  50879 non-null  object\n",
            "dtypes: object(3)\n",
            "memory usage: 1.6+ MB\n",
            "\n",
            "Types of Data attributes: \n",
            "\n",
            "\n",
            "Summary of all numerical fields in the dataset: \n",
            "\n",
            "\n",
            "Summary of all categorical fields in the dataset: \n",
            "\n",
            "\n",
            "Loop Through Each Column and Check for nulls: \n",
            "\n",
            "text: 0\n",
            "labels: 0\n",
            "text_clean: 0\n"
          ]
        }
      ]
    },
    {
      "cell_type": "markdown",
      "source": [
        "# **Data Preparation**"
      ],
      "metadata": {
        "id": "NjFZLcdQAmaN"
      }
    },
    {
      "cell_type": "code",
      "source": [
        "train_set, test_set = train_test_split(data, test_size=0.2)\n",
        "train_y = train_set[\"labels\"].values\n",
        "test_y = test_set[\"labels\"].values"
      ],
      "metadata": {
        "id": "QDqh9eqRApqo"
      },
      "execution_count": 117,
      "outputs": []
    },
    {
      "cell_type": "code",
      "source": [
        "print(len(train_set))\n",
        "print(len(test_set))\n",
        "print(len(train_y))\n",
        "print(len(test_y))"
      ],
      "metadata": {
        "colab": {
          "base_uri": "https://localhost:8080/"
        },
        "id": "Sl1oiucW79D9",
        "outputId": "f1d913e2-21db-4552-e821-961a075ddba6"
      },
      "execution_count": 118,
      "outputs": [
        {
          "output_type": "stream",
          "name": "stdout",
          "text": [
            "40703\n",
            "10176\n",
            "40703\n",
            "10176\n"
          ]
        }
      ]
    },
    {
      "cell_type": "markdown",
      "source": [
        "#**Embedding Layer with Gensim**"
      ],
      "metadata": {
        "id": "arToYTCdCNL-"
      }
    },
    {
      "cell_type": "code",
      "source": [
        "if pretrained_embeddings is True: \n",
        "  nlp = gensim_api.load(\"word2vec-google-news-300\")\n",
        "else: \n",
        "  corpus = train_set[\"text_clean\"]\n",
        "\n",
        "  # 1 - create list of lists of unigrams\n",
        "  lst_corpus = []\n",
        "  i = 0\n",
        "  for string in corpus:\n",
        "    lst_words = string.split()\n",
        "    #print(lst_words)\n",
        "    lst_grams = [\" \".join(lst_words[i:i+1]) for i in range(0, len(lst_words), 1)]\n",
        "    #print(lst_grams)\n",
        "    lst_corpus.append(lst_grams)\n",
        "    '''\n",
        "    i+=1\n",
        "    if i > 4: \n",
        "      break\n",
        "    '''\n",
        "    \n",
        "  # 2 - create a list of bigrams and trigrams\n",
        "  bigrams_detector = Phrases(lst_corpus, delimiter=\" \".encode(), min_count=5, threshold=10)                     # Train a bigram model.\n",
        "  bigrams_detector = Phraser(bigrams_detector)                                                                  # Export the trained model = use less RAM, faster processing\n",
        "  trigrams_detector = Phrases(bigrams_detector[lst_corpus], delimiter=\" \".encode(), min_count=5, threshold=10)  # Train a trigram model.\n",
        "  trigrams_detector = Phraser(trigrams_detector)"
      ],
      "metadata": {
        "id": "Znf1YaeSCQiw"
      },
      "execution_count": 119,
      "outputs": []
    },
    {
      "cell_type": "code",
      "source": [
        "print(type(lst_corpus))\n",
        "print(type(bigrams_detector))\n",
        "print(type(trigrams_detector))\n",
        "print(len(lst_corpus))\n",
        "print(lst_corpus)"
      ],
      "metadata": {
        "colab": {
          "base_uri": "https://localhost:8080/"
        },
        "id": "LPhfSY_mHdUl",
        "outputId": "f2828159-b8fd-40e3-e186-3e5daf6d17a8"
      },
      "execution_count": 120,
      "outputs": [
        {
          "output_type": "stream",
          "name": "stderr",
          "text": [
            "IOPub data rate exceeded.\n",
            "The notebook server will temporarily stop sending output\n",
            "to the client in order to avoid crashing it.\n",
            "To change this limit, set the config variable\n",
            "`--NotebookApp.iopub_data_rate_limit`.\n",
            "\n",
            "Current values:\n",
            "NotebookApp.iopub_data_rate_limit=1000000.0 (bytes/sec)\n",
            "NotebookApp.rate_limit_window=3.0 (secs)\n",
            "\n"
          ]
        }
      ]
    },
    {
      "cell_type": "markdown",
      "source": [
        "# **Word Embeddings Training by Gensim Word2Vec**"
      ],
      "metadata": {
        "id": "22dRkZw5H0bG"
      }
    },
    {
      "cell_type": "code",
      "source": [
        "embedding_model = Word2Vec(lst_corpus, size=300, window=8, min_count=1, sg=1, iter=30)\n",
        "if benchmark is True: \n",
        "  embedding_model.save(model_path+\"news_category_word2vec_embeddings.model\")\n",
        "else: \n",
        "  embedding_model.save(model_path+\"hashtags_word2vec_embeddings.model\")"
      ],
      "metadata": {
        "id": "8RiN09_dHxnV"
      },
      "execution_count": 121,
      "outputs": []
    },
    {
      "cell_type": "markdown",
      "source": [
        "#**Language Model Sanity Check**"
      ],
      "metadata": {
        "id": "hBr1tHmOXYmy"
      }
    },
    {
      "cell_type": "code",
      "source": [
        "word = \"war\"\n",
        "embedding_model[word].shape\n",
        "print(\"Embeddings Coefficients for the word: \", word)\n",
        "print(\"\\n\")\n",
        "print(embedding_model[word])"
      ],
      "metadata": {
        "colab": {
          "base_uri": "https://localhost:8080/"
        },
        "id": "SaRDbvF6XbgL",
        "outputId": "1baa9161-ba07-48b3-e368-beeae0b67c73"
      },
      "execution_count": 123,
      "outputs": [
        {
          "output_type": "stream",
          "name": "stdout",
          "text": [
            "Embeddings Coefficients for the word:  war\n",
            "\n",
            "\n",
            "[-0.02341886  0.15184104  0.21552002 -0.08532832 -0.16035618  0.37344956\n",
            "  0.14149003 -0.20837389  0.05866155 -0.5596483   1.0303084  -0.75222385\n",
            "  0.08848284 -0.8464612  -0.71708995 -0.06814931 -0.38882694 -0.4445483\n",
            "  0.07182048  0.7279753   0.19266357  0.46826714  0.5127824  -0.26900712\n",
            "  0.0416155  -0.87419146 -0.21215178  0.6220192  -0.23355517 -0.12544926\n",
            "  0.25272408 -0.15734874 -0.60184884 -0.02845793 -0.15020657  0.0631082\n",
            " -0.6016859  -0.5855932  -0.38629812 -0.34343278  0.46121266 -0.5096243\n",
            "  0.56054133  0.17919426 -0.50487196 -0.1485517  -0.12270159  0.2689494\n",
            "  0.69927204 -0.13957433 -0.6544229  -0.02294533  0.31420708 -0.26710343\n",
            " -0.125308    0.02611929  0.0920037  -0.84766895  0.31092495  0.01657795\n",
            " -0.09464858 -0.37179804 -0.37564972  0.07997193 -0.12915817  0.49381503\n",
            "  0.4711063   0.82679206 -0.12196149  0.29846185 -0.42230102 -0.12692232\n",
            "  0.9689126   0.12214919  0.46933556 -1.0074537   0.11055945  0.11503673\n",
            " -0.05587335 -0.1138659   0.04199757  0.14679702 -0.19065736  0.24521977\n",
            " -0.45486495  0.708991   -0.28040406 -0.06600711  0.84174806 -0.21347152\n",
            "  0.3024501   0.5485316   0.21445931  0.3437011  -0.35971728  0.34851766\n",
            "  0.531316   -0.06364843 -0.3263983  -0.31166652  0.52690834 -0.71819836\n",
            "  0.01727492  0.17635797 -0.02734521  0.11634794  0.16572034 -0.17831817\n",
            " -0.16894889  0.58710545 -0.12992288 -0.0942918  -0.33849746  0.20058075\n",
            " -0.52272713  0.3663487   0.5903266   0.17413518  0.09084058 -0.48638794\n",
            "  0.09519428 -0.3477834  -0.2281772  -0.37435898 -0.26321822 -0.49012452\n",
            " -0.59766996  0.6156493  -0.0089335  -0.03401686  0.5987059   0.04242179\n",
            " -0.44740433  0.40578914 -0.8638475   0.10580076  0.45117307  0.18860736\n",
            "  0.37856004  0.47110975  0.00580569  0.17834388  0.20606911  0.27982768\n",
            "  0.30366662  0.50422114 -0.04357556 -0.14939556 -0.6323157  -0.10177071\n",
            "  0.17543277 -0.14748403  0.36230043  0.68226355 -0.27882305  0.05885226\n",
            "  0.5316943   0.5800861  -0.755441    0.90118927  0.2685445  -0.54510665\n",
            " -0.3000184   0.5407715   0.22480303 -0.6544686  -0.08333618  0.4263032\n",
            " -0.41848695  0.64269394 -0.07999525 -0.6893923  -0.30623734 -0.3594453\n",
            "  0.13095072  0.15669306 -0.49974054 -0.06194597 -0.45685098 -0.34524432\n",
            " -0.14023079  0.27288848  0.64626056 -0.21136747  0.43204993 -0.06401215\n",
            "  0.13080141 -0.60007286 -0.5186344  -0.79823405 -0.1736096   0.4100061\n",
            " -0.6017583   0.3012106  -0.5134052  -0.49997678 -1.128728   -0.0252726\n",
            " -0.3394708   0.44286764  0.30722615 -0.20397621 -0.05036509  0.31147888\n",
            "  0.19388045 -0.34356079 -0.15160589  0.05114123 -0.04716062  0.66496265\n",
            " -0.28899008 -0.4833176  -0.33385554 -0.18690607  0.04702037  0.00506871\n",
            "  0.11070835  0.04210543 -0.23669721 -0.17169328  0.16087    -0.27811712\n",
            " -0.50089324  0.5606896  -0.0802381   0.39640895  0.24132825 -0.23473805\n",
            "  0.40784127 -0.18999815 -0.10509779 -0.8308347  -0.30534455  0.5519152\n",
            " -0.19829853 -0.1277648  -0.9743444   0.01835332 -0.7373914  -0.51991355\n",
            "  0.6283407  -0.47441283  0.02236028 -0.61488473 -0.51474035  0.85053\n",
            "  0.43978533  0.37499082  0.18843825 -0.01150641 -0.13162251 -0.18495002\n",
            "  0.14244464 -0.2497489  -0.059095    0.24286343 -0.21499063 -0.19466986\n",
            " -0.92769367  0.3396135   0.1954417  -0.5966032  -0.11029293 -0.0876876\n",
            " -0.00743429 -0.03354689 -0.14678521 -0.63136923  0.09901766  0.20231713\n",
            "  0.05552578  0.12095346 -0.0473786  -0.44744945 -0.11718374 -0.35293886\n",
            " -0.47356406  0.43735492 -0.0223943   0.11487602  0.8899322   0.36159414\n",
            " -0.36878926 -0.76511616  0.4456747  -1.1004245   0.4112325   0.18739168\n",
            " -0.20937753  0.26066613  0.02636754 -0.10316736 -0.18928358  0.40149727\n",
            " -0.57222474  0.02825024 -0.1907642   0.5131787  -0.06255804  0.42643443]\n"
          ]
        },
        {
          "output_type": "stream",
          "name": "stderr",
          "text": [
            "/usr/local/lib/python3.7/dist-packages/ipykernel_launcher.py:2: DeprecationWarning: Call to deprecated `__getitem__` (Method will be removed in 4.0.0, use self.wv.__getitem__() instead).\n",
            "  \n",
            "/usr/local/lib/python3.7/dist-packages/ipykernel_launcher.py:5: DeprecationWarning: Call to deprecated `__getitem__` (Method will be removed in 4.0.0, use self.wv.__getitem__() instead).\n",
            "  \"\"\"\n"
          ]
        }
      ]
    },
    {
      "cell_type": "markdown",
      "source": [
        "#**Embedding Space Visualization Function**"
      ],
      "metadata": {
        "id": "P1zrJLL7YsuT"
      }
    },
    {
      "cell_type": "code",
      "source": [
        "def embedding_space_visualization(root_word, model, plot_3d = True, plot_2d = False):\n",
        "  fig = plt.figure(figsize=(20, 17), dpi=80)\n",
        "  tot_words = [word] + [tupla[0] for tupla in model.most_similar(word, topn=40)]   \n",
        "  X = model[tot_words]\n",
        "  if plot_3d: \n",
        "    pca = TSNE(perplexity=40, n_components=3, init='pca')                           \n",
        "\n",
        "    X = pca.fit_transform(X)\n",
        "    pca_data = pd.DataFrame(X, index=tot_words, columns=[\"x\",\"y\",\"z\"])\n",
        "    pca_data[\"input\"] = 0\n",
        "    pca_data[\"input\"].iloc[0:1] = 1\n",
        "\n",
        "    ax = fig.add_subplot(111, projection='3d')\n",
        "    ax.scatter(pca_data[pca_data[\"input\"]==0]['x'], pca_data[pca_data[\"input\"]==0]['y'], pca_data[pca_data[\"input\"]==0]['z'], c=\"black\")\n",
        "    ax.scatter(pca_data[pca_data[\"input\"]==1]['x'], pca_data[pca_data[\"input\"]==1]['y'], pca_data[pca_data[\"input\"]==1]['z'], c=\"red\")\n",
        "    ax.set(xlabel=None, ylabel=None, zlabel=None, xticklabels=[], yticklabels=[], zticklabels=[])\n",
        "    for label, row in pca_data[[\"x\",\"y\",\"z\"]].iterrows():\n",
        "        x, y, z = row\n",
        "        ax.text(x, y, z, s=label)"
      ],
      "metadata": {
        "id": "8Qr91jL8YrtK"
      },
      "execution_count": 124,
      "outputs": []
    },
    {
      "cell_type": "markdown",
      "source": [
        "# **Plot the Embedding Space**"
      ],
      "metadata": {
        "id": "9Ol8g1YKeRSR"
      }
    },
    {
      "cell_type": "code",
      "source": [
        "embedding_space_visualization(\"war\", embedding_model)"
      ],
      "metadata": {
        "colab": {
          "base_uri": "https://localhost:8080/",
          "height": 1000
        },
        "id": "TS0Yqv8PeVmg",
        "outputId": "ad884651-c71e-421c-c23d-20944f5a9633"
      },
      "execution_count": 125,
      "outputs": [
        {
          "output_type": "stream",
          "name": "stderr",
          "text": [
            "/usr/local/lib/python3.7/dist-packages/ipykernel_launcher.py:3: DeprecationWarning: Call to deprecated `most_similar` (Method will be removed in 4.0.0, use self.wv.most_similar() instead).\n",
            "  This is separate from the ipykernel package so we can avoid doing imports until\n",
            "/usr/local/lib/python3.7/dist-packages/ipykernel_launcher.py:4: DeprecationWarning: Call to deprecated `__getitem__` (Method will be removed in 4.0.0, use self.wv.__getitem__() instead).\n",
            "  after removing the cwd from sys.path.\n",
            "/usr/local/lib/python3.7/dist-packages/sklearn/manifold/_t_sne.py:793: FutureWarning: The default learning rate in TSNE will change from 200.0 to 'auto' in 1.2.\n",
            "  FutureWarning,\n",
            "/usr/local/lib/python3.7/dist-packages/sklearn/manifold/_t_sne.py:986: FutureWarning: The PCA initialization in TSNE will change to have the standard deviation of PC1 equal to 1e-4 in 1.2. This will ensure better convergence.\n",
            "  FutureWarning,\n",
            "/usr/local/lib/python3.7/dist-packages/pandas/core/indexing.py:1732: SettingWithCopyWarning: \n",
            "A value is trying to be set on a copy of a slice from a DataFrame\n",
            "\n",
            "See the caveats in the documentation: https://pandas.pydata.org/pandas-docs/stable/user_guide/indexing.html#returning-a-view-versus-a-copy\n",
            "  self._setitem_single_block(indexer, value, name)\n"
          ]
        },
        {
          "output_type": "display_data",
          "data": {
            "text/plain": [
              "<Figure size 1600x1360 with 1 Axes>"
            ],
            "image/png": "[encoded data removed]"
          },
          "metadata": {
            "needs_background": "light"
          }
        }
      ]
    },
    {
      "cell_type": "markdown",
      "source": [
        " # **Feature Engineering**"
      ],
      "metadata": {
        "id": "Cv2lNF6bm1JZ"
      }
    },
    {
      "cell_type": "code",
      "source": [
        "tokenizer = Tokenizer(lower=True, split=' ', oov_token=\"NaN\", filters='!\"#$%&()*+,-./:;<=>?@[\\\\]^_`{|}~\\t\\n')  # tokenize text\n",
        "tokenizer.fit_on_texts(lst_corpus)\n",
        "index_of_words = tokenizer.word_index\n",
        "lst_text2seq= tokenizer.texts_to_sequences(lst_corpus)    ## create sequence\n",
        "train_x = pad_sequences(lst_text2seq, maxlen=15, padding=\"post\", truncating=\"post\") # pad sequences \n",
        "\n",
        "corpus = test_set[\"text_clean\"]\n",
        "\n",
        "lst_corpus = []\n",
        "for string in corpus:\n",
        "    lst_words = string.split()\n",
        "    lst_grams = [\" \".join(lst_words[i:i+1]) for i in range(0, \n",
        "                 len(lst_words), 1)]\n",
        "    lst_corpus.append(lst_grams)\n",
        "    \n",
        "lst_corpus = list(bigrams_detector[lst_corpus])\n",
        "lst_corpus = list(trigrams_detector[lst_corpus])\n",
        "lst_text2seq = tokenizer.texts_to_sequences(lst_corpus)\n",
        "\n",
        "test_x = pad_sequences(lst_text2seq, maxlen=15, padding=\"post\", truncating=\"post\")"
      ],
      "metadata": {
        "id": "OTbiizcIm0Yr"
      },
      "execution_count": 126,
      "outputs": []
    },
    {
      "cell_type": "code",
      "source": [
        "print(train_x)\n",
        "print(len(train_x))\n",
        "print(test_x)\n",
        "print(len(test_x))"
      ],
      "metadata": {
        "colab": {
          "base_uri": "https://localhost:8080/"
        },
        "id": "pNzWtv0rpPoP",
        "outputId": "9e046533-3b1c-48b3-85fc-047ffe6ba5e6"
      },
      "execution_count": 127,
      "outputs": [
        {
          "output_type": "stream",
          "name": "stdout",
          "text": [
            "[[1403 1250  345 ...    0    0    0]\n",
            " [4587 9453 8123 ...    0    0    0]\n",
            " [2036  366  698 ...    0    0    0]\n",
            " ...\n",
            " [   5  562   77 ... 3089    0    0]\n",
            " [ 235   11    5 ...    0    0    0]\n",
            " [   2  445    4 ...    0    0    0]]\n",
            "40703\n",
            "[[1904 2461 1136 ...    0    0    0]\n",
            " [   1 1745   48 ...    0    0    0]\n",
            " [4792    1 2318 ...    0    0    0]\n",
            " ...\n",
            " [   1  649   58 ...    0    0    0]\n",
            " [ 494    1    2 ...    0    0    0]\n",
            " [2560   25  867 ...    0    0    0]]\n",
            "10176\n"
          ]
        }
      ]
    },
    {
      "cell_type": "markdown",
      "source": [
        "# **Embeddings Matrix Building**"
      ],
      "metadata": {
        "id": "tCUl7k7FqZk3"
      }
    },
    {
      "cell_type": "code",
      "source": [
        "embeddings_matrix = np.zeros((len(index_of_words)+1, 300))\n",
        "for word, idx in index_of_words.items():\n",
        "    try:\n",
        "        embeddings_matrix[idx] =  embedding_model[word]\n",
        "    except:\n",
        "        pass\n",
        "print(embeddings_matrix.shape)"
      ],
      "metadata": {
        "colab": {
          "base_uri": "https://localhost:8080/"
        },
        "id": "vAvwr_GEqavX",
        "outputId": "d9a4598e-a2f2-464f-ecbb-b565524094cc"
      },
      "execution_count": 128,
      "outputs": [
        {
          "output_type": "stream",
          "name": "stdout",
          "text": [
            "(27072, 300)\n"
          ]
        },
        {
          "output_type": "stream",
          "name": "stderr",
          "text": [
            "/usr/local/lib/python3.7/dist-packages/ipykernel_launcher.py:4: DeprecationWarning: Call to deprecated `__getitem__` (Method will be removed in 4.0.0, use self.wv.__getitem__() instead).\n",
            "  after removing the cwd from sys.path.\n"
          ]
        }
      ]
    },
    {
      "cell_type": "markdown",
      "source": [
        "# **Labels Encoding**"
      ],
      "metadata": {
        "id": "iZZQfHT0zJqo"
      }
    },
    {
      "cell_type": "code",
      "source": [
        "print(\"Original Labels: \")\n",
        "print(train_y)\n",
        "print(test_y)\n",
        "lb_train = LabelEncoder()\n",
        "lb_train.fit(train_y)\n",
        "train_y = lb_train.transform(train_y)\n",
        "\n",
        "lb_test = LabelEncoder()\n",
        "lb_test.fit(test_y)\n",
        "test_y = lb_test.transform(test_y)\n",
        "\n",
        "# save label file so we can use in another script\n",
        "np.save('./train_labels.npy', lb_train.classes_)\n",
        "np.save('./test_labels.npy', lb_test.classes_)\n",
        "print(\"Encoded Labels: \")\n",
        "print(train_y)\n",
        "print(test_y)\n",
        "n_classes = len(np.unique(train_y))"
      ],
      "metadata": {
        "colab": {
          "base_uri": "https://localhost:8080/"
        },
        "id": "NkTsX-9lzufd",
        "outputId": "399b0db1-3ecc-4eeb-bc06-0c15d123b2e8"
      },
      "execution_count": 129,
      "outputs": [
        {
          "output_type": "stream",
          "name": "stdout",
          "text": [
            "Original Labels: \n",
            "['POLITICS' 'POLITICS' 'POLITICS' ... 'POLITICS' 'POLITICS' 'POLITICS']\n",
            "['POLITICS' 'ENTERTAINMENT' 'POLITICS' ... 'POLITICS' 'ENTERTAINMENT'\n",
            " 'ENTERTAINMENT']\n",
            "Encoded Labels: \n",
            "[1 1 1 ... 1 1 1]\n",
            "[1 0 1 ... 1 0 0]\n"
          ]
        }
      ]
    },
    {
      "cell_type": "markdown",
      "source": [
        "# **One-Hot Encoding of Outputs**"
      ],
      "metadata": {
        "id": "PD-OKCMN0hRg"
      }
    },
    {
      "cell_type": "code",
      "source": [
        "n_classes"
      ],
      "metadata": {
        "colab": {
          "base_uri": "https://localhost:8080/"
        },
        "id": "lc6X4glnuLqd",
        "outputId": "f50486e5-783c-406d-f82d-e3578e133159"
      },
      "execution_count": 130,
      "outputs": [
        {
          "output_type": "execute_result",
          "data": {
            "text/plain": [
              "3"
            ]
          },
          "metadata": {},
          "execution_count": 130
        }
      ]
    },
    {
      "cell_type": "code",
      "source": [
        "print(\"Original Labels: \")\n",
        "print(train_y)\n",
        "print(test_y)\n",
        "train_y = to_categorical(train_y, num_classes = n_classes)\n",
        "test_y = to_categorical(test_y, num_classes = n_classes)\n",
        "print(\"One-Hot Encoded Labels: \")\n",
        "print(train_y)\n",
        "print(test_y)\n",
        "print(len(train_y))\n",
        "print(len(test_y))\n"
      ],
      "metadata": {
        "colab": {
          "base_uri": "https://localhost:8080/"
        },
        "id": "Ptt_QH1ozI8f",
        "outputId": "d2e578ef-c972-4a3e-8601-35d608ef112c"
      },
      "execution_count": 131,
      "outputs": [
        {
          "output_type": "stream",
          "name": "stdout",
          "text": [
            "Original Labels: \n",
            "[1 1 1 ... 1 1 1]\n",
            "[1 0 1 ... 1 0 0]\n",
            "One-Hot Encoded Labels: \n",
            "[[0. 1. 0.]\n",
            " [0. 1. 0.]\n",
            " [0. 1. 0.]\n",
            " ...\n",
            " [0. 1. 0.]\n",
            " [0. 1. 0.]\n",
            " [0. 1. 0.]]\n",
            "[[0. 1. 0.]\n",
            " [1. 0. 0.]\n",
            " [0. 1. 0.]\n",
            " ...\n",
            " [0. 1. 0.]\n",
            " [1. 0. 0.]\n",
            " [1. 0. 0.]]\n",
            "40703\n",
            "10176\n"
          ]
        }
      ]
    },
    {
      "cell_type": "markdown",
      "source": [
        "# **Deep Learning Model Definition**"
      ],
      "metadata": {
        "id": "8TyrR9iQvZHP"
      }
    },
    {
      "cell_type": "code",
      "source": [
        "input = Input(shape=(15,))\n",
        "x = Embedding(input_dim=embeddings_matrix.shape[0], output_dim=embeddings_matrix.shape[1], weights=[embeddings_matrix], input_length=15, trainable=False)(input)\n",
        "x = Bidirectional(LSTM(units=15, dropout=0.2, return_sequences=True))(x)\n",
        "x = Bidirectional(LSTM(units=15, dropout=0.2))(x)\n",
        "x = Dense(64, activation='relu')(x)\n",
        "predictions = Dense(n_classes, activation='softmax')(x)\n",
        "model = Model(input, predictions)\n",
        "model.compile(loss='categorical_crossentropy', optimizer='adam', metrics=['accuracy'])\n",
        "\n",
        "model.summary()"
      ],
      "metadata": {
        "colab": {
          "base_uri": "https://localhost:8080/"
        },
        "id": "sW6pZJ8xvak2",
        "outputId": "b84dba04-0a21-46f3-e4c6-2f477dbcf9e7"
      },
      "execution_count": 132,
      "outputs": [
        {
          "output_type": "stream",
          "name": "stdout",
          "text": [
            "Model: \"model_3\"\n",
            "_________________________________________________________________\n",
            " Layer (type)                Output Shape              Param #   \n",
            "=================================================================\n",
            " input_4 (InputLayer)        [(None, 15)]              0         \n",
            "                                                                 \n",
            " embedding_3 (Embedding)     (None, 15, 300)           8121600   \n",
            "                                                                 \n",
            " bidirectional_6 (Bidirectio  (None, 15, 30)           37920     \n",
            " nal)                                                            \n",
            "                                                                 \n",
            " bidirectional_7 (Bidirectio  (None, 30)               5520      \n",
            " nal)                                                            \n",
            "                                                                 \n",
            " dense_6 (Dense)             (None, 64)                1984      \n",
            "                                                                 \n",
            " dense_7 (Dense)             (None, 3)                 195       \n",
            "                                                                 \n",
            "=================================================================\n",
            "Total params: 8,167,219\n",
            "Trainable params: 45,619\n",
            "Non-trainable params: 8,121,600\n",
            "_________________________________________________________________\n"
          ]
        }
      ]
    },
    {
      "cell_type": "code",
      "source": [
        "if save_best_model is True:\n",
        "  if benchmark is True: \n",
        "    checkPoint=ModelCheckpoint(model_path+\"best_bilstm_news_classifier.h5\", save_weights_only=True, monitor='val_accuracy', verbose=1, save_best_only=True, mode='max')\n",
        "  else: \n",
        "    checkPoint=ModelCheckpoint(model_path+\"best_bilstm_hashtags_classifier.h5\", save_weights_only=True, monitor='val_accuracy', verbose=1, save_best_only=True, mode='max')\n",
        "\n",
        "  default_callbacks = default_callbacks+[checkPoint]\n",
        "\n",
        "if early_stopping is True: \n",
        "  earlyStopping=EarlyStopping(monitor='val_loss', min_delta = 0.001, patience=7, verbose=0, mode='min') \n",
        "  default_callbacks = default_callbacks+[earlyStopping]"
      ],
      "metadata": {
        "id": "BMckOCtjCBgS"
      },
      "execution_count": 133,
      "outputs": []
    },
    {
      "cell_type": "markdown",
      "source": [
        "# **Deep Learning Model Training**"
      ],
      "metadata": {
        "id": "PPsAzVrk3TPe"
      }
    },
    {
      "cell_type": "code",
      "source": [
        "history = training = model.fit(train_x, train_y, batch_size=64, epochs=100, shuffle=True, verbose=1, callbacks = default_callbacks, validation_split=0.2)"
      ],
      "metadata": {
        "colab": {
          "base_uri": "https://localhost:8080/"
        },
        "id": "BznYkeUl3KIA",
        "outputId": "9c8820ce-4ffb-4cfd-cb04-a7b42db9d294"
      },
      "execution_count": 134,
      "outputs": [
        {
          "output_type": "stream",
          "name": "stdout",
          "text": [
            "Epoch 1/100\n",
            "505/509 [============================>.] - ETA: 0s - loss: 0.3104 - accuracy: 0.8903\n",
            "Epoch 1: val_accuracy improved from -inf to 0.92937, saving model to /content/drive/MyDrive/DL_Models/best_bilstm_news_classifier.h5\n",
            "509/509 [==============================] - 13s 14ms/step - loss: 0.3095 - accuracy: 0.8905 - val_loss: 0.2052 - val_accuracy: 0.9294\n",
            "Epoch 2/100\n",
            "506/509 [============================>.] - ETA: 0s - loss: 0.2086 - accuracy: 0.9273\n",
            "Epoch 2: val_accuracy improved from 0.92937 to 0.93404, saving model to /content/drive/MyDrive/DL_Models/best_bilstm_news_classifier.h5\n",
            "509/509 [==============================] - 6s 12ms/step - loss: 0.2089 - accuracy: 0.9272 - val_loss: 0.1915 - val_accuracy: 0.9340\n",
            "Epoch 3/100\n",
            "505/509 [============================>.] - ETA: 0s - loss: 0.1901 - accuracy: 0.9327\n",
            "Epoch 3: val_accuracy improved from 0.93404 to 0.93834, saving model to /content/drive/MyDrive/DL_Models/best_bilstm_news_classifier.h5\n",
            "509/509 [==============================] - 6s 12ms/step - loss: 0.1903 - accuracy: 0.9327 - val_loss: 0.1787 - val_accuracy: 0.9383\n",
            "Epoch 4/100\n",
            "508/509 [============================>.] - ETA: 0s - loss: 0.1783 - accuracy: 0.9374\n",
            "Epoch 4: val_accuracy did not improve from 0.93834\n",
            "509/509 [==============================] - 6s 12ms/step - loss: 0.1782 - accuracy: 0.9374 - val_loss: 0.1776 - val_accuracy: 0.9380\n",
            "Epoch 5/100\n",
            "505/509 [============================>.] - ETA: 0s - loss: 0.1674 - accuracy: 0.9399\n",
            "Epoch 5: val_accuracy improved from 0.93834 to 0.94006, saving model to /content/drive/MyDrive/DL_Models/best_bilstm_news_classifier.h5\n",
            "509/509 [==============================] - 7s 14ms/step - loss: 0.1677 - accuracy: 0.9398 - val_loss: 0.1784 - val_accuracy: 0.9401\n",
            "Epoch 6/100\n",
            "508/509 [============================>.] - ETA: 0s - loss: 0.1603 - accuracy: 0.9424\n",
            "Epoch 6: val_accuracy did not improve from 0.94006\n",
            "509/509 [==============================] - 6s 12ms/step - loss: 0.1605 - accuracy: 0.9424 - val_loss: 0.1749 - val_accuracy: 0.9398\n",
            "Epoch 7/100\n",
            "507/509 [============================>.] - ETA: 0s - loss: 0.1516 - accuracy: 0.9454\n",
            "Epoch 7: val_accuracy improved from 0.94006 to 0.94153, saving model to /content/drive/MyDrive/DL_Models/best_bilstm_news_classifier.h5\n",
            "509/509 [==============================] - 7s 13ms/step - loss: 0.1516 - accuracy: 0.9454 - val_loss: 0.1714 - val_accuracy: 0.9415\n",
            "Epoch 8/100\n",
            "508/509 [============================>.] - ETA: 0s - loss: 0.1446 - accuracy: 0.9485\n",
            "Epoch 8: val_accuracy did not improve from 0.94153\n",
            "509/509 [==============================] - 6s 12ms/step - loss: 0.1445 - accuracy: 0.9486 - val_loss: 0.1795 - val_accuracy: 0.9382\n",
            "Epoch 9/100\n",
            "507/509 [============================>.] - ETA: 0s - loss: 0.1371 - accuracy: 0.9512\n",
            "Epoch 9: val_accuracy improved from 0.94153 to 0.94288, saving model to /content/drive/MyDrive/DL_Models/best_bilstm_news_classifier.h5\n",
            "509/509 [==============================] - 7s 14ms/step - loss: 0.1370 - accuracy: 0.9513 - val_loss: 0.1750 - val_accuracy: 0.9429\n",
            "Epoch 10/100\n",
            "505/509 [============================>.] - ETA: 0s - loss: 0.1289 - accuracy: 0.9545\n",
            "Epoch 10: val_accuracy did not improve from 0.94288\n",
            "509/509 [==============================] - 6s 12ms/step - loss: 0.1289 - accuracy: 0.9544 - val_loss: 0.1766 - val_accuracy: 0.9417\n",
            "Epoch 11/100\n",
            "509/509 [==============================] - ETA: 0s - loss: 0.1237 - accuracy: 0.9554\n",
            "Epoch 11: val_accuracy improved from 0.94288 to 0.94350, saving model to /content/drive/MyDrive/DL_Models/best_bilstm_news_classifier.h5\n",
            "509/509 [==============================] - 7s 13ms/step - loss: 0.1237 - accuracy: 0.9554 - val_loss: 0.1744 - val_accuracy: 0.9435\n",
            "Epoch 12/100\n",
            "508/509 [============================>.] - ETA: 0s - loss: 0.1198 - accuracy: 0.9560\n",
            "Epoch 12: val_accuracy did not improve from 0.94350\n",
            "509/509 [==============================] - 6s 12ms/step - loss: 0.1197 - accuracy: 0.9560 - val_loss: 0.1874 - val_accuracy: 0.9380\n",
            "Epoch 13/100\n",
            "508/509 [============================>.] - ETA: 0s - loss: 0.1123 - accuracy: 0.9603\n",
            "Epoch 13: val_accuracy did not improve from 0.94350\n",
            "509/509 [==============================] - 6s 12ms/step - loss: 0.1122 - accuracy: 0.9603 - val_loss: 0.1920 - val_accuracy: 0.9399\n",
            "Epoch 14/100\n",
            "507/509 [============================>.] - ETA: 0s - loss: 0.1081 - accuracy: 0.9606\n",
            "Epoch 14: val_accuracy did not improve from 0.94350\n",
            "509/509 [==============================] - 6s 11ms/step - loss: 0.1079 - accuracy: 0.9606 - val_loss: 0.1892 - val_accuracy: 0.9391\n",
            "Epoch 15/100\n",
            "508/509 [============================>.] - ETA: 0s - loss: 0.1010 - accuracy: 0.9641\n",
            "Epoch 15: val_accuracy did not improve from 0.94350\n",
            "509/509 [==============================] - 6s 12ms/step - loss: 0.1010 - accuracy: 0.9641 - val_loss: 0.1970 - val_accuracy: 0.9351\n",
            "Epoch 16/100\n",
            "506/509 [============================>.] - ETA: 0s - loss: 0.0990 - accuracy: 0.9649\n",
            "Epoch 16: val_accuracy did not improve from 0.94350\n",
            "509/509 [==============================] - 6s 11ms/step - loss: 0.0993 - accuracy: 0.9648 - val_loss: 0.2056 - val_accuracy: 0.9394\n",
            "Epoch 17/100\n",
            "509/509 [==============================] - ETA: 0s - loss: 0.0922 - accuracy: 0.9666\n",
            "Epoch 17: val_accuracy did not improve from 0.94350\n",
            "509/509 [==============================] - 6s 11ms/step - loss: 0.0922 - accuracy: 0.9666 - val_loss: 0.2069 - val_accuracy: 0.9374\n",
            "Epoch 18/100\n",
            "507/509 [============================>.] - ETA: 0s - loss: 0.0919 - accuracy: 0.9675\n",
            "Epoch 18: val_accuracy did not improve from 0.94350\n",
            "509/509 [==============================] - 6s 12ms/step - loss: 0.0922 - accuracy: 0.9675 - val_loss: 0.1987 - val_accuracy: 0.9383\n",
            "Epoch 19/100\n",
            "508/509 [============================>.] - ETA: 0s - loss: 0.0851 - accuracy: 0.9698\n",
            "Epoch 19: val_accuracy did not improve from 0.94350\n",
            "509/509 [==============================] - 6s 12ms/step - loss: 0.0851 - accuracy: 0.9698 - val_loss: 0.2156 - val_accuracy: 0.9380\n",
            "Epoch 20/100\n",
            "509/509 [==============================] - ETA: 0s - loss: 0.0837 - accuracy: 0.9696\n",
            "Epoch 20: val_accuracy did not improve from 0.94350\n",
            "509/509 [==============================] - 6s 12ms/step - loss: 0.0837 - accuracy: 0.9696 - val_loss: 0.2168 - val_accuracy: 0.9354\n",
            "Epoch 21/100\n",
            "507/509 [============================>.] - ETA: 0s - loss: 0.0816 - accuracy: 0.9708\n",
            "Epoch 21: val_accuracy did not improve from 0.94350\n",
            "509/509 [==============================] - 6s 12ms/step - loss: 0.0817 - accuracy: 0.9708 - val_loss: 0.2226 - val_accuracy: 0.9355\n",
            "Epoch 22/100\n",
            "506/509 [============================>.] - ETA: 0s - loss: 0.0774 - accuracy: 0.9727\n",
            "Epoch 22: val_accuracy did not improve from 0.94350\n",
            "509/509 [==============================] - 6s 11ms/step - loss: 0.0775 - accuracy: 0.9727 - val_loss: 0.2338 - val_accuracy: 0.9362\n",
            "Epoch 23/100\n",
            "507/509 [============================>.] - ETA: 0s - loss: 0.0736 - accuracy: 0.9734\n",
            "Epoch 23: val_accuracy did not improve from 0.94350\n",
            "509/509 [==============================] - 6s 12ms/step - loss: 0.0737 - accuracy: 0.9734 - val_loss: 0.2411 - val_accuracy: 0.9376\n",
            "Epoch 24/100\n",
            "505/509 [============================>.] - ETA: 0s - loss: 0.0722 - accuracy: 0.9730\n",
            "Epoch 24: val_accuracy did not improve from 0.94350\n",
            "509/509 [==============================] - 6s 12ms/step - loss: 0.0720 - accuracy: 0.9731 - val_loss: 0.2436 - val_accuracy: 0.9361\n",
            "Epoch 25/100\n",
            "505/509 [============================>.] - ETA: 0s - loss: 0.0728 - accuracy: 0.9728\n",
            "Epoch 25: val_accuracy did not improve from 0.94350\n",
            "509/509 [==============================] - 6s 11ms/step - loss: 0.0728 - accuracy: 0.9728 - val_loss: 0.2364 - val_accuracy: 0.9381\n",
            "Epoch 26/100\n",
            "509/509 [==============================] - ETA: 0s - loss: 0.0678 - accuracy: 0.9745\n",
            "Epoch 26: val_accuracy did not improve from 0.94350\n",
            "509/509 [==============================] - 6s 12ms/step - loss: 0.0678 - accuracy: 0.9745 - val_loss: 0.2345 - val_accuracy: 0.9369\n",
            "Epoch 27/100\n",
            "507/509 [============================>.] - ETA: 0s - loss: 0.0672 - accuracy: 0.9750\n",
            "Epoch 27: val_accuracy did not improve from 0.94350\n",
            "509/509 [==============================] - 6s 12ms/step - loss: 0.0672 - accuracy: 0.9750 - val_loss: 0.2403 - val_accuracy: 0.9347\n",
            "Epoch 28/100\n",
            "505/509 [============================>.] - ETA: 0s - loss: 0.0679 - accuracy: 0.9761\n",
            "Epoch 28: val_accuracy did not improve from 0.94350\n",
            "509/509 [==============================] - 6s 12ms/step - loss: 0.0678 - accuracy: 0.9760 - val_loss: 0.2486 - val_accuracy: 0.9321\n",
            "Epoch 29/100\n",
            "505/509 [============================>.] - ETA: 0s - loss: 0.0638 - accuracy: 0.9770\n",
            "Epoch 29: val_accuracy did not improve from 0.94350\n",
            "509/509 [==============================] - 6s 12ms/step - loss: 0.0639 - accuracy: 0.9769 - val_loss: 0.2458 - val_accuracy: 0.9372\n",
            "Epoch 30/100\n",
            "506/509 [============================>.] - ETA: 0s - loss: 0.0579 - accuracy: 0.9789\n",
            "Epoch 30: val_accuracy did not improve from 0.94350\n",
            "509/509 [==============================] - 6s 11ms/step - loss: 0.0581 - accuracy: 0.9788 - val_loss: 0.2644 - val_accuracy: 0.9340\n",
            "Epoch 31/100\n",
            "509/509 [==============================] - ETA: 0s - loss: 0.0587 - accuracy: 0.9781\n",
            "Epoch 31: val_accuracy did not improve from 0.94350\n",
            "509/509 [==============================] - 6s 12ms/step - loss: 0.0587 - accuracy: 0.9781 - val_loss: 0.2742 - val_accuracy: 0.9359\n",
            "Epoch 32/100\n",
            "506/509 [============================>.] - ETA: 0s - loss: 0.0596 - accuracy: 0.9779\n",
            "Epoch 32: val_accuracy did not improve from 0.94350\n",
            "509/509 [==============================] - 6s 12ms/step - loss: 0.0599 - accuracy: 0.9778 - val_loss: 0.2615 - val_accuracy: 0.9356\n",
            "Epoch 33/100\n",
            "507/509 [============================>.] - ETA: 0s - loss: 0.0557 - accuracy: 0.9796\n",
            "Epoch 33: val_accuracy did not improve from 0.94350\n",
            "509/509 [==============================] - 6s 12ms/step - loss: 0.0555 - accuracy: 0.9796 - val_loss: 0.2767 - val_accuracy: 0.9371\n",
            "Epoch 34/100\n",
            "506/509 [============================>.] - ETA: 0s - loss: 0.0546 - accuracy: 0.9799\n",
            "Epoch 34: val_accuracy did not improve from 0.94350\n",
            "509/509 [==============================] - 6s 11ms/step - loss: 0.0544 - accuracy: 0.9800 - val_loss: 0.2752 - val_accuracy: 0.9348\n",
            "Epoch 35/100\n",
            "505/509 [============================>.] - ETA: 0s - loss: 0.0536 - accuracy: 0.9801\n",
            "Epoch 35: val_accuracy did not improve from 0.94350\n",
            "509/509 [==============================] - 6s 12ms/step - loss: 0.0536 - accuracy: 0.9801 - val_loss: 0.2797 - val_accuracy: 0.9345\n",
            "Epoch 36/100\n",
            "508/509 [============================>.] - ETA: 0s - loss: 0.0539 - accuracy: 0.9795\n",
            "Epoch 36: val_accuracy did not improve from 0.94350\n",
            "509/509 [==============================] - 6s 12ms/step - loss: 0.0538 - accuracy: 0.9795 - val_loss: 0.2748 - val_accuracy: 0.9365\n",
            "Epoch 37/100\n",
            "508/509 [============================>.] - ETA: 0s - loss: 0.0526 - accuracy: 0.9802\n",
            "Epoch 37: val_accuracy did not improve from 0.94350\n",
            "509/509 [==============================] - 6s 11ms/step - loss: 0.0526 - accuracy: 0.9802 - val_loss: 0.2837 - val_accuracy: 0.9343\n",
            "Epoch 38/100\n",
            "506/509 [============================>.] - ETA: 0s - loss: 0.0478 - accuracy: 0.9823\n",
            "Epoch 38: val_accuracy did not improve from 0.94350\n",
            "509/509 [==============================] - 6s 11ms/step - loss: 0.0477 - accuracy: 0.9823 - val_loss: 0.3170 - val_accuracy: 0.9319\n",
            "Epoch 39/100\n",
            "507/509 [============================>.] - ETA: 0s - loss: 0.0510 - accuracy: 0.9815\n",
            "Epoch 39: val_accuracy did not improve from 0.94350\n",
            "509/509 [==============================] - 6s 12ms/step - loss: 0.0511 - accuracy: 0.9814 - val_loss: 0.2912 - val_accuracy: 0.9347\n",
            "Epoch 40/100\n",
            "509/509 [==============================] - ETA: 0s - loss: 0.0471 - accuracy: 0.9829\n",
            "Epoch 40: val_accuracy did not improve from 0.94350\n",
            "509/509 [==============================] - 6s 12ms/step - loss: 0.0471 - accuracy: 0.9829 - val_loss: 0.2939 - val_accuracy: 0.9359\n",
            "Epoch 41/100\n",
            "507/509 [============================>.] - ETA: 0s - loss: 0.0483 - accuracy: 0.9817\n",
            "Epoch 41: val_accuracy did not improve from 0.94350\n",
            "509/509 [==============================] - 6s 12ms/step - loss: 0.0482 - accuracy: 0.9817 - val_loss: 0.3027 - val_accuracy: 0.9376\n",
            "Epoch 42/100\n",
            "505/509 [============================>.] - ETA: 0s - loss: 0.0461 - accuracy: 0.9826\n",
            "Epoch 42: val_accuracy did not improve from 0.94350\n",
            "509/509 [==============================] - 6s 12ms/step - loss: 0.0463 - accuracy: 0.9824 - val_loss: 0.2969 - val_accuracy: 0.9339\n",
            "Epoch 43/100\n",
            "509/509 [==============================] - ETA: 0s - loss: 0.0453 - accuracy: 0.9826\n",
            "Epoch 43: val_accuracy did not improve from 0.94350\n",
            "509/509 [==============================] - 6s 12ms/step - loss: 0.0453 - accuracy: 0.9826 - val_loss: 0.3012 - val_accuracy: 0.9339\n",
            "Epoch 44/100\n",
            "505/509 [============================>.] - ETA: 0s - loss: 0.0456 - accuracy: 0.9827\n",
            "Epoch 44: val_accuracy did not improve from 0.94350\n",
            "509/509 [==============================] - 6s 12ms/step - loss: 0.0455 - accuracy: 0.9827 - val_loss: 0.3079 - val_accuracy: 0.9323\n",
            "Epoch 45/100\n",
            "507/509 [============================>.] - ETA: 0s - loss: 0.0448 - accuracy: 0.9829\n",
            "Epoch 45: val_accuracy did not improve from 0.94350\n",
            "509/509 [==============================] - 6s 12ms/step - loss: 0.0448 - accuracy: 0.9829 - val_loss: 0.3074 - val_accuracy: 0.9305\n",
            "Epoch 46/100\n",
            "509/509 [==============================] - ETA: 0s - loss: 0.0448 - accuracy: 0.9832\n",
            "Epoch 46: val_accuracy did not improve from 0.94350\n",
            "509/509 [==============================] - 6s 12ms/step - loss: 0.0448 - accuracy: 0.9832 - val_loss: 0.2974 - val_accuracy: 0.9323\n",
            "Epoch 47/100\n",
            "505/509 [============================>.] - ETA: 0s - loss: 0.0423 - accuracy: 0.9849\n",
            "Epoch 47: val_accuracy did not improve from 0.94350\n",
            "509/509 [==============================] - 6s 11ms/step - loss: 0.0422 - accuracy: 0.9850 - val_loss: 0.3173 - val_accuracy: 0.9340\n",
            "Epoch 48/100\n",
            "506/509 [============================>.] - ETA: 0s - loss: 0.0411 - accuracy: 0.9851\n",
            "Epoch 48: val_accuracy did not improve from 0.94350\n",
            "509/509 [==============================] - 6s 12ms/step - loss: 0.0411 - accuracy: 0.9850 - val_loss: 0.3076 - val_accuracy: 0.9334\n",
            "Epoch 49/100\n",
            "507/509 [============================>.] - ETA: 0s - loss: 0.0425 - accuracy: 0.9840\n",
            "Epoch 49: val_accuracy did not improve from 0.94350\n",
            "509/509 [==============================] - 6s 12ms/step - loss: 0.0425 - accuracy: 0.9840 - val_loss: 0.3175 - val_accuracy: 0.9337\n",
            "Epoch 50/100\n",
            "509/509 [==============================] - ETA: 0s - loss: 0.0413 - accuracy: 0.9842\n",
            "Epoch 50: val_accuracy did not improve from 0.94350\n",
            "509/509 [==============================] - 6s 12ms/step - loss: 0.0413 - accuracy: 0.9842 - val_loss: 0.3134 - val_accuracy: 0.9347\n",
            "Epoch 51/100\n",
            "508/509 [============================>.] - ETA: 0s - loss: 0.0390 - accuracy: 0.9855\n",
            "Epoch 51: val_accuracy did not improve from 0.94350\n",
            "509/509 [==============================] - 6s 12ms/step - loss: 0.0390 - accuracy: 0.9854 - val_loss: 0.3304 - val_accuracy: 0.9347\n",
            "Epoch 52/100\n",
            "508/509 [============================>.] - ETA: 0s - loss: 0.0407 - accuracy: 0.9844\n",
            "Epoch 52: val_accuracy did not improve from 0.94350\n",
            "509/509 [==============================] - 6s 12ms/step - loss: 0.0406 - accuracy: 0.9845 - val_loss: 0.3223 - val_accuracy: 0.9328\n",
            "Epoch 53/100\n",
            "508/509 [============================>.] - ETA: 0s - loss: 0.0380 - accuracy: 0.9858\n",
            "Epoch 53: val_accuracy did not improve from 0.94350\n",
            "509/509 [==============================] - 6s 12ms/step - loss: 0.0380 - accuracy: 0.9858 - val_loss: 0.3085 - val_accuracy: 0.9339\n",
            "Epoch 54/100\n",
            "507/509 [============================>.] - ETA: 0s - loss: 0.0365 - accuracy: 0.9862\n",
            "Epoch 54: val_accuracy did not improve from 0.94350\n",
            "509/509 [==============================] - 6s 11ms/step - loss: 0.0365 - accuracy: 0.9861 - val_loss: 0.3376 - val_accuracy: 0.9308\n",
            "Epoch 55/100\n",
            "506/509 [============================>.] - ETA: 0s - loss: 0.0419 - accuracy: 0.9842\n",
            "Epoch 55: val_accuracy did not improve from 0.94350\n",
            "509/509 [==============================] - 6s 12ms/step - loss: 0.0420 - accuracy: 0.9842 - val_loss: 0.3214 - val_accuracy: 0.9332\n",
            "Epoch 56/100\n",
            "509/509 [==============================] - ETA: 0s - loss: 0.0379 - accuracy: 0.9859\n",
            "Epoch 56: val_accuracy did not improve from 0.94350\n",
            "509/509 [==============================] - 6s 12ms/step - loss: 0.0379 - accuracy: 0.9859 - val_loss: 0.3300 - val_accuracy: 0.9329\n",
            "Epoch 57/100\n",
            "508/509 [============================>.] - ETA: 0s - loss: 0.0386 - accuracy: 0.9854\n",
            "Epoch 57: val_accuracy did not improve from 0.94350\n",
            "509/509 [==============================] - 6s 12ms/step - loss: 0.0386 - accuracy: 0.9853 - val_loss: 0.3133 - val_accuracy: 0.9329\n",
            "Epoch 58/100\n",
            "506/509 [============================>.] - ETA: 0s - loss: 0.0351 - accuracy: 0.9875\n",
            "Epoch 58: val_accuracy did not improve from 0.94350\n",
            "509/509 [==============================] - 6s 12ms/step - loss: 0.0351 - accuracy: 0.9875 - val_loss: 0.3559 - val_accuracy: 0.9307\n",
            "Epoch 59/100\n",
            "507/509 [============================>.] - ETA: 0s - loss: 0.0353 - accuracy: 0.9868\n",
            "Epoch 59: val_accuracy did not improve from 0.94350\n",
            "509/509 [==============================] - 6s 12ms/step - loss: 0.0352 - accuracy: 0.9869 - val_loss: 0.3272 - val_accuracy: 0.9323\n",
            "Epoch 60/100\n",
            "507/509 [============================>.] - ETA: 0s - loss: 0.0349 - accuracy: 0.9871\n",
            "Epoch 60: val_accuracy did not improve from 0.94350\n",
            "509/509 [==============================] - 6s 12ms/step - loss: 0.0349 - accuracy: 0.9871 - val_loss: 0.3297 - val_accuracy: 0.9329\n",
            "Epoch 61/100\n",
            "508/509 [============================>.] - ETA: 0s - loss: 0.0357 - accuracy: 0.9867\n",
            "Epoch 61: val_accuracy did not improve from 0.94350\n",
            "509/509 [==============================] - 6s 12ms/step - loss: 0.0356 - accuracy: 0.9868 - val_loss: 0.3378 - val_accuracy: 0.9317\n",
            "Epoch 62/100\n",
            "505/509 [============================>.] - ETA: 0s - loss: 0.0358 - accuracy: 0.9864\n",
            "Epoch 62: val_accuracy did not improve from 0.94350\n",
            "509/509 [==============================] - 6s 12ms/step - loss: 0.0360 - accuracy: 0.9863 - val_loss: 0.3322 - val_accuracy: 0.9296\n",
            "Epoch 63/100\n",
            "505/509 [============================>.] - ETA: 0s - loss: 0.0358 - accuracy: 0.9867\n",
            "Epoch 63: val_accuracy did not improve from 0.94350\n",
            "509/509 [==============================] - 6s 12ms/step - loss: 0.0360 - accuracy: 0.9865 - val_loss: 0.3233 - val_accuracy: 0.9292\n",
            "Epoch 64/100\n",
            "509/509 [==============================] - ETA: 0s - loss: 0.0331 - accuracy: 0.9879\n",
            "Epoch 64: val_accuracy did not improve from 0.94350\n",
            "509/509 [==============================] - 6s 12ms/step - loss: 0.0331 - accuracy: 0.9879 - val_loss: 0.3468 - val_accuracy: 0.9323\n",
            "Epoch 65/100\n",
            "505/509 [============================>.] - ETA: 0s - loss: 0.0335 - accuracy: 0.9881\n",
            "Epoch 65: val_accuracy did not improve from 0.94350\n",
            "509/509 [==============================] - 6s 12ms/step - loss: 0.0335 - accuracy: 0.9881 - val_loss: 0.3441 - val_accuracy: 0.9310\n",
            "Epoch 66/100\n",
            "505/509 [============================>.] - ETA: 0s - loss: 0.0322 - accuracy: 0.9885\n",
            "Epoch 66: val_accuracy did not improve from 0.94350\n",
            "509/509 [==============================] - 6s 12ms/step - loss: 0.0320 - accuracy: 0.9885 - val_loss: 0.3362 - val_accuracy: 0.9338\n",
            "Epoch 67/100\n",
            "509/509 [==============================] - ETA: 0s - loss: 0.0335 - accuracy: 0.9879\n",
            "Epoch 67: val_accuracy did not improve from 0.94350\n",
            "509/509 [==============================] - 6s 12ms/step - loss: 0.0335 - accuracy: 0.9879 - val_loss: 0.3751 - val_accuracy: 0.9326\n",
            "Epoch 68/100\n",
            "508/509 [============================>.] - ETA: 0s - loss: 0.0302 - accuracy: 0.9892\n",
            "Epoch 68: val_accuracy did not improve from 0.94350\n",
            "509/509 [==============================] - 6s 12ms/step - loss: 0.0302 - accuracy: 0.9892 - val_loss: 0.3538 - val_accuracy: 0.9307\n",
            "Epoch 69/100\n",
            "509/509 [==============================] - ETA: 0s - loss: 0.0325 - accuracy: 0.9877\n",
            "Epoch 69: val_accuracy did not improve from 0.94350\n",
            "509/509 [==============================] - 6s 12ms/step - loss: 0.0325 - accuracy: 0.9877 - val_loss: 0.3354 - val_accuracy: 0.9285\n",
            "Epoch 70/100\n",
            "508/509 [============================>.] - ETA: 0s - loss: 0.0300 - accuracy: 0.9893\n",
            "Epoch 70: val_accuracy did not improve from 0.94350\n",
            "509/509 [==============================] - 6s 12ms/step - loss: 0.0299 - accuracy: 0.9893 - val_loss: 0.3413 - val_accuracy: 0.9315\n",
            "Epoch 71/100\n",
            "506/509 [============================>.] - ETA: 0s - loss: 0.0306 - accuracy: 0.9882\n",
            "Epoch 71: val_accuracy did not improve from 0.94350\n",
            "509/509 [==============================] - 6s 12ms/step - loss: 0.0306 - accuracy: 0.9882 - val_loss: 0.3378 - val_accuracy: 0.9342\n",
            "Epoch 72/100\n",
            "506/509 [============================>.] - ETA: 0s - loss: 0.0311 - accuracy: 0.9886\n",
            "Epoch 72: val_accuracy did not improve from 0.94350\n",
            "509/509 [==============================] - 6s 12ms/step - loss: 0.0309 - accuracy: 0.9887 - val_loss: 0.3565 - val_accuracy: 0.9328\n",
            "Epoch 73/100\n",
            "506/509 [============================>.] - ETA: 0s - loss: 0.0300 - accuracy: 0.9889\n",
            "Epoch 73: val_accuracy did not improve from 0.94350\n",
            "509/509 [==============================] - 6s 12ms/step - loss: 0.0299 - accuracy: 0.9889 - val_loss: 0.3813 - val_accuracy: 0.9318\n",
            "Epoch 74/100\n",
            "507/509 [============================>.] - ETA: 0s - loss: 0.0330 - accuracy: 0.9884\n",
            "Epoch 74: val_accuracy did not improve from 0.94350\n",
            "509/509 [==============================] - 6s 12ms/step - loss: 0.0331 - accuracy: 0.9884 - val_loss: 0.3421 - val_accuracy: 0.9326\n",
            "Epoch 75/100\n",
            "505/509 [============================>.] - ETA: 0s - loss: 0.0288 - accuracy: 0.9898\n",
            "Epoch 75: val_accuracy did not improve from 0.94350\n",
            "509/509 [==============================] - 6s 12ms/step - loss: 0.0289 - accuracy: 0.9898 - val_loss: 0.3631 - val_accuracy: 0.9328\n",
            "Epoch 76/100\n",
            "508/509 [============================>.] - ETA: 0s - loss: 0.0311 - accuracy: 0.9886\n",
            "Epoch 76: val_accuracy did not improve from 0.94350\n",
            "509/509 [==============================] - 6s 12ms/step - loss: 0.0311 - accuracy: 0.9886 - val_loss: 0.3674 - val_accuracy: 0.9299\n",
            "Epoch 77/100\n",
            "508/509 [============================>.] - ETA: 0s - loss: 0.0297 - accuracy: 0.9889\n",
            "Epoch 77: val_accuracy did not improve from 0.94350\n",
            "509/509 [==============================] - 6s 12ms/step - loss: 0.0297 - accuracy: 0.9889 - val_loss: 0.3602 - val_accuracy: 0.9304\n",
            "Epoch 78/100\n",
            "508/509 [============================>.] - ETA: 0s - loss: 0.0298 - accuracy: 0.9888\n",
            "Epoch 78: val_accuracy did not improve from 0.94350\n",
            "509/509 [==============================] - 6s 12ms/step - loss: 0.0298 - accuracy: 0.9888 - val_loss: 0.3496 - val_accuracy: 0.9338\n",
            "Epoch 79/100\n",
            "505/509 [============================>.] - ETA: 0s - loss: 0.0277 - accuracy: 0.9890\n",
            "Epoch 79: val_accuracy did not improve from 0.94350\n",
            "509/509 [==============================] - 6s 12ms/step - loss: 0.0277 - accuracy: 0.9890 - val_loss: 0.3591 - val_accuracy: 0.9311\n",
            "Epoch 80/100\n",
            "508/509 [============================>.] - ETA: 0s - loss: 0.0252 - accuracy: 0.9902\n",
            "Epoch 80: val_accuracy did not improve from 0.94350\n",
            "509/509 [==============================] - 6s 12ms/step - loss: 0.0252 - accuracy: 0.9902 - val_loss: 0.3642 - val_accuracy: 0.9338\n",
            "Epoch 81/100\n",
            "507/509 [============================>.] - ETA: 0s - loss: 0.0314 - accuracy: 0.9883\n",
            "Epoch 81: val_accuracy did not improve from 0.94350\n",
            "509/509 [==============================] - 6s 12ms/step - loss: 0.0316 - accuracy: 0.9883 - val_loss: 0.3413 - val_accuracy: 0.9350\n",
            "Epoch 82/100\n",
            "505/509 [============================>.] - ETA: 0s - loss: 0.0291 - accuracy: 0.9891\n",
            "Epoch 82: val_accuracy did not improve from 0.94350\n",
            "509/509 [==============================] - 6s 12ms/step - loss: 0.0291 - accuracy: 0.9891 - val_loss: 0.3547 - val_accuracy: 0.9300\n",
            "Epoch 83/100\n",
            "505/509 [============================>.] - ETA: 0s - loss: 0.0279 - accuracy: 0.9898\n",
            "Epoch 83: val_accuracy did not improve from 0.94350\n",
            "509/509 [==============================] - 6s 12ms/step - loss: 0.0278 - accuracy: 0.9898 - val_loss: 0.3521 - val_accuracy: 0.9319\n",
            "Epoch 84/100\n",
            "505/509 [============================>.] - ETA: 0s - loss: 0.0269 - accuracy: 0.9903\n",
            "Epoch 84: val_accuracy did not improve from 0.94350\n",
            "509/509 [==============================] - 6s 12ms/step - loss: 0.0271 - accuracy: 0.9903 - val_loss: 0.3476 - val_accuracy: 0.9323\n",
            "Epoch 85/100\n",
            "508/509 [============================>.] - ETA: 0s - loss: 0.0279 - accuracy: 0.9895\n",
            "Epoch 85: val_accuracy did not improve from 0.94350\n",
            "509/509 [==============================] - 6s 12ms/step - loss: 0.0280 - accuracy: 0.9895 - val_loss: 0.3556 - val_accuracy: 0.9318\n",
            "Epoch 86/100\n",
            "508/509 [============================>.] - ETA: 0s - loss: 0.0271 - accuracy: 0.9902\n",
            "Epoch 86: val_accuracy did not improve from 0.94350\n",
            "509/509 [==============================] - 6s 12ms/step - loss: 0.0271 - accuracy: 0.9902 - val_loss: 0.3505 - val_accuracy: 0.9335\n",
            "Epoch 87/100\n",
            "507/509 [============================>.] - ETA: 0s - loss: 0.0278 - accuracy: 0.9897\n",
            "Epoch 87: val_accuracy did not improve from 0.94350\n",
            "509/509 [==============================] - 6s 12ms/step - loss: 0.0278 - accuracy: 0.9897 - val_loss: 0.3639 - val_accuracy: 0.9350\n",
            "Epoch 88/100\n",
            "505/509 [============================>.] - ETA: 0s - loss: 0.0269 - accuracy: 0.9898\n",
            "Epoch 88: val_accuracy did not improve from 0.94350\n",
            "509/509 [==============================] - 6s 12ms/step - loss: 0.0270 - accuracy: 0.9898 - val_loss: 0.3511 - val_accuracy: 0.9297\n",
            "Epoch 89/100\n",
            "509/509 [==============================] - ETA: 0s - loss: 0.0286 - accuracy: 0.9897\n",
            "Epoch 89: val_accuracy did not improve from 0.94350\n",
            "509/509 [==============================] - 6s 12ms/step - loss: 0.0286 - accuracy: 0.9897 - val_loss: 0.3647 - val_accuracy: 0.9326\n",
            "Epoch 90/100\n",
            "506/509 [============================>.] - ETA: 0s - loss: 0.0256 - accuracy: 0.9908\n",
            "Epoch 90: val_accuracy did not improve from 0.94350\n",
            "509/509 [==============================] - 6s 12ms/step - loss: 0.0261 - accuracy: 0.9907 - val_loss: 0.3526 - val_accuracy: 0.9337\n",
            "Epoch 91/100\n",
            "506/509 [============================>.] - ETA: 0s - loss: 0.0242 - accuracy: 0.9914\n",
            "Epoch 91: val_accuracy did not improve from 0.94350\n",
            "509/509 [==============================] - 6s 12ms/step - loss: 0.0241 - accuracy: 0.9914 - val_loss: 0.3726 - val_accuracy: 0.9327\n",
            "Epoch 92/100\n",
            "507/509 [============================>.] - ETA: 0s - loss: 0.0273 - accuracy: 0.9900\n",
            "Epoch 92: val_accuracy did not improve from 0.94350\n",
            "509/509 [==============================] - 6s 12ms/step - loss: 0.0273 - accuracy: 0.9900 - val_loss: 0.3715 - val_accuracy: 0.9328\n",
            "Epoch 93/100\n",
            "509/509 [==============================] - ETA: 0s - loss: 0.0252 - accuracy: 0.9904\n",
            "Epoch 93: val_accuracy did not improve from 0.94350\n",
            "509/509 [==============================] - 6s 12ms/step - loss: 0.0252 - accuracy: 0.9904 - val_loss: 0.3764 - val_accuracy: 0.9318\n",
            "Epoch 94/100\n",
            "508/509 [============================>.] - ETA: 0s - loss: 0.0271 - accuracy: 0.9899\n",
            "Epoch 94: val_accuracy did not improve from 0.94350\n",
            "509/509 [==============================] - 6s 12ms/step - loss: 0.0271 - accuracy: 0.9899 - val_loss: 0.3731 - val_accuracy: 0.9300\n",
            "Epoch 95/100\n",
            "509/509 [==============================] - ETA: 0s - loss: 0.0283 - accuracy: 0.9897\n",
            "Epoch 95: val_accuracy did not improve from 0.94350\n",
            "509/509 [==============================] - 6s 12ms/step - loss: 0.0283 - accuracy: 0.9897 - val_loss: 0.3466 - val_accuracy: 0.9322\n",
            "Epoch 96/100\n",
            "508/509 [============================>.] - ETA: 0s - loss: 0.0242 - accuracy: 0.9914\n",
            "Epoch 96: val_accuracy did not improve from 0.94350\n",
            "509/509 [==============================] - 6s 12ms/step - loss: 0.0241 - accuracy: 0.9914 - val_loss: 0.3650 - val_accuracy: 0.9326\n",
            "Epoch 97/100\n",
            "509/509 [==============================] - ETA: 0s - loss: 0.0258 - accuracy: 0.9908\n",
            "Epoch 97: val_accuracy did not improve from 0.94350\n",
            "509/509 [==============================] - 6s 12ms/step - loss: 0.0258 - accuracy: 0.9908 - val_loss: 0.3670 - val_accuracy: 0.9329\n",
            "Epoch 98/100\n",
            "507/509 [============================>.] - ETA: 0s - loss: 0.0262 - accuracy: 0.9907\n",
            "Epoch 98: val_accuracy did not improve from 0.94350\n",
            "509/509 [==============================] - 6s 12ms/step - loss: 0.0261 - accuracy: 0.9907 - val_loss: 0.3703 - val_accuracy: 0.9343\n",
            "Epoch 99/100\n",
            "506/509 [============================>.] - ETA: 0s - loss: 0.0268 - accuracy: 0.9902\n",
            "Epoch 99: val_accuracy did not improve from 0.94350\n",
            "509/509 [==============================] - 6s 12ms/step - loss: 0.0270 - accuracy: 0.9902 - val_loss: 0.3533 - val_accuracy: 0.9327\n",
            "Epoch 100/100\n",
            "509/509 [==============================] - ETA: 0s - loss: 0.0254 - accuracy: 0.9905\n",
            "Epoch 100: val_accuracy did not improve from 0.94350\n",
            "509/509 [==============================] - 6s 12ms/step - loss: 0.0254 - accuracy: 0.9905 - val_loss: 0.3729 - val_accuracy: 0.9340\n"
          ]
        }
      ]
    },
    {
      "cell_type": "code",
      "source": [
        "plot_loss(history)\n",
        "plot_acc(history)"
      ],
      "metadata": {
        "colab": {
          "base_uri": "https://localhost:8080/",
          "height": 513
        },
        "id": "tYTN-e4xcz6B",
        "outputId": "d36e4ca0-8331-46f4-d40f-fd367a1ce2bd"
      },
      "execution_count": 135,
      "outputs": [
        {
          "output_type": "display_data",
          "data": {
            "text/plain": [
              "<Figure size 432x288 with 1 Axes>"
            ],
            "image/png": "[encoded data removed]"
          },
          "metadata": {
            "needs_background": "light"
          }
        },
        {
          "output_type": "display_data",
          "data": {
            "text/plain": [
              "<Figure size 432x288 with 1 Axes>"
            ],
            "image/png": "[encoded data removed]"
          },
          "metadata": {
            "needs_background": "light"
          }
        }
      ]
    },
    {
      "cell_type": "code",
      "source": [
        "score = model.evaluate(test_x, test_y, batch_size=500)\n",
        "print(score)"
      ],
      "metadata": {
        "colab": {
          "base_uri": "https://localhost:8080/"
        },
        "id": "FTmSofEWcC9_",
        "outputId": "bc281005-4df4-4f89-c4e3-df477d8c2118"
      },
      "execution_count": 136,
      "outputs": [
        {
          "output_type": "stream",
          "name": "stdout",
          "text": [
            "21/21 [==============================] - 0s 5ms/step - loss: 0.7177 - accuracy: 0.8600\n",
            "[0.7176964282989502, 0.8599646091461182]\n"
          ]
        }
      ]
    }
  ],
  "metadata": {
    "accelerator": "GPU",
    "colab": {
      "name": "word_embeddings_ai_nlp.ipynb",
      "provenance": [],
      "collapsed_sections": []
    },
    "kernelspec": {
      "display_name": "Python 3",
      "name": "python3"
    },
    "language_info": {
      "name": "python"
    }
  },
  "nbformat": 4,
  "nbformat_minor": 0
}